{
 "cells": [
  {
   "cell_type": "code",
   "execution_count": 1,
   "metadata": {},
   "outputs": [],
   "source": [
    "import numpy as np\n",
    "import pandas as pd\n",
    "import matplotlib.pyplot as plt\n",
    "import seaborn as sns\n",
    "%matplotlib inline\n",
    "from google.cloud import bigquery\n",
    "client = bigquery.Client()\n"
   ]
  },
  {
   "cell_type": "markdown",
   "metadata": {},
   "source": [
    "# Commuter Trips"
   ]
  },
  {
   "cell_type": "markdown",
   "metadata": {},
   "source": [
    "## Top 5 most popular commuter trips"
   ]
  },
  {
   "cell_type": "markdown",
   "metadata": {},
   "source": [
    "In order to identify the 5 most popular commuter trips, we must first define what a commuter trip is. In order to do this, we consider characteristics of a commuter trip.  We set the following 4 criteria:\n",
    "\n",
    "1. Since by definition commuters are going from home to work, or vice-versa, commuter trips must not be round trips. In other words, trips should start and end at different locations.\n",
    "2. Most commuters will not travel on weekends and public holidays. While some commuters will work weekends and holidays, this accounts for a minority, and accounting for trips on these days might increase our false positives (for example, we would imagine that most trips taken on say 4th of July are leisurely, even if some are for work).\n",
    "3. Most commuters will work during the day, and prime commuting time is between 6am - 9:59am (prime time for leaving for work) and between 4pm - 7:59pm (prime time for leaving from work). The range should cover most of regular commuters, and provides a large enough window to account for individuals with different work hours (for example, younger people tend to work later hours and also arrive later).\n",
    "4. Duration of the trips will matter. Commuters will most likely choose a different form of transportation if their journey on a bike is too time. At the same time, if it is too short, they may opt to walk rather than spend money on renting a bike. For our definition, we require trips to last at least 5 minutes, but not more than 30 minutes. We showed in Part 2 that 5 minute trips are most likely tests conducted near the Lyft HQ. For trips >30min, since there is an extra charge for longer durations than 30mins (as discussed in class), this would not sustainable, and customers would likely find another way to commute.\n",
    "\n",
    "We could have added additional criteria, such as evaluating whether the start station of the morning trip is from a residential location, rather than say business to business (some people might use these bikes to go between locations during work). While our definition will not be perfect and will not capture every single commuter trip in the dataset, it should capture a large portion of commuter trips without having a large false positive rate. \n",
    "\n",
    "As a side note, station pair order matters when we count distinct commuter trips. For example, a trip at 8am from station A to station B does NOT count as the same station pair as a trip at 6pm from station B to station A. We count commuter trips starting and ending at different locations as distinct, meaning that for the top 5 most popular trips, we may very well see both A to B and B to A.\n",
    "\n",
    "In order to tackle this question, we first build a view that corresponds to public holidays during this time period. This was done manually by uploading a [csv](https://github.com/mids-w205-schioberg/project-1-siduojiang/blob/assignment/holidays.csv) file into Google BigQuery and storing it as a table. The following table shows the dates and first 5 entries of the holidays table."
   ]
  },
  {
   "cell_type": "code",
   "execution_count": 2,
   "metadata": {},
   "outputs": [
    {
     "data": {
      "text/html": [
       "<div>\n",
       "<style scoped>\n",
       "    .dataframe tbody tr th:only-of-type {\n",
       "        vertical-align: middle;\n",
       "    }\n",
       "\n",
       "    .dataframe tbody tr th {\n",
       "        vertical-align: top;\n",
       "    }\n",
       "\n",
       "    .dataframe thead th {\n",
       "        text-align: right;\n",
       "    }\n",
       "</style>\n",
       "<table border=\"1\" class=\"dataframe\">\n",
       "  <thead>\n",
       "    <tr style=\"text-align: right;\">\n",
       "      <th></th>\n",
       "      <th>time</th>\n",
       "      <th>day</th>\n",
       "    </tr>\n",
       "  </thead>\n",
       "  <tbody>\n",
       "    <tr>\n",
       "      <th>0</th>\n",
       "      <td>2013-01-01</td>\n",
       "      <td>New Year's Day</td>\n",
       "    </tr>\n",
       "    <tr>\n",
       "      <th>1</th>\n",
       "      <td>2013-01-21</td>\n",
       "      <td>Martin Luther King Jr. Day</td>\n",
       "    </tr>\n",
       "    <tr>\n",
       "      <th>2</th>\n",
       "      <td>2013-02-18</td>\n",
       "      <td>Washington's Birthday</td>\n",
       "    </tr>\n",
       "    <tr>\n",
       "      <th>3</th>\n",
       "      <td>2013-05-27</td>\n",
       "      <td>Memorial Day</td>\n",
       "    </tr>\n",
       "    <tr>\n",
       "      <th>4</th>\n",
       "      <td>2013-07-04</td>\n",
       "      <td>Independence Day</td>\n",
       "    </tr>\n",
       "  </tbody>\n",
       "</table>\n",
       "</div>"
      ],
      "text/plain": [
       "         time                         day\n",
       "0  2013-01-01              New Year's Day\n",
       "1  2013-01-21  Martin Luther King Jr. Day\n",
       "2  2013-02-18       Washington's Birthday\n",
       "3  2013-05-27                Memorial Day\n",
       "4  2013-07-04            Independence Day"
      ]
     },
     "execution_count": 2,
     "metadata": {},
     "output_type": "execute_result"
    }
   ],
   "source": [
    "%%bigquery\n",
    "\n",
    "SELECT * FROM `round-ring-276215.bikeshare_views.holidays` \n",
    "ORDER BY time\n",
    "LIMIT 5"
   ]
  },
  {
   "cell_type": "markdown",
   "metadata": {},
   "source": [
    "Based on this operational definition of commuters, we arrive at the following trips as the top 5 most popular commuter trips in our dataset."
   ]
  },
  {
   "cell_type": "code",
   "execution_count": 3,
   "metadata": {},
   "outputs": [],
   "source": [
    "commuter_trips = '''\n",
    "WITH commuter_trips AS \n",
    "  (SELECT * FROM\n",
    "     #LEFT JOIN with the holidays table to capture all entries in the bikeshare_trips table\n",
    "     #Keep only places the holidays table IS NULL (non-holidays)\n",
    "    (SELECT trips.* FROM `bigquery-public-data.san_francisco.bikeshare_trips` trips\n",
    "      LEFT JOIN `round-ring-276215.bikeshare_views.holidays` holidays\n",
    "      ON holidays.time =  CAST(trips.start_date AS DATE)\n",
    "      WHERE holidays.time IS NULL) trips_non_holiday\n",
    "    WHERE EXTRACT(DAYOFWEEK FROM start_date) BETWEEN 2 AND 6\n",
    "      AND (EXTRACT(HOUR FROM start_date) BETWEEN 6 AND 9\n",
    "        OR EXTRACT(HOUR FROM start_date) BETWEEN 16 AND 19)\n",
    "      AND duration_sec BETWEEN (60*5) AND (60*30)\n",
    "      AND start_station_id != end_station_id)        \n",
    "  SELECT stations_1.name start_station_name, stations_2.name end_station_name, COUNT(*) num_trips \n",
    "    FROM commuter_trips \n",
    "    JOIN `bigquery-public-data.san_francisco.bikeshare_stations` stations_1\n",
    "    ON commuter_trips.start_station_id = stations_1.station_id \n",
    "    JOIN `bigquery-public-data.san_francisco.bikeshare_stations` stations_2\n",
    "    ON commuter_trips.end_station_id = stations_2.station_id \n",
    "  GROUP BY start_station_name, end_station_name\n",
    "  ORDER BY num_trips DESC\n",
    "  LIMIT 5\n",
    "'''\n",
    "\n",
    "df_commuter_trips = client.query(commuter_trips).to_dataframe()"
   ]
  },
  {
   "cell_type": "markdown",
   "metadata": {},
   "source": [
    "The question we are asked to answer is:\n",
    "\n",
    "**What are the 5 most popular trips that you would call \"commuter trips\"?**\n",
    "\n",
    "Our answer is presented in a Pandas table below:"
   ]
  },
  {
   "cell_type": "code",
   "execution_count": 4,
   "metadata": {},
   "outputs": [
    {
     "data": {
      "text/html": [
       "<div>\n",
       "<style scoped>\n",
       "    .dataframe tbody tr th:only-of-type {\n",
       "        vertical-align: middle;\n",
       "    }\n",
       "\n",
       "    .dataframe tbody tr th {\n",
       "        vertical-align: top;\n",
       "    }\n",
       "\n",
       "    .dataframe thead th {\n",
       "        text-align: right;\n",
       "    }\n",
       "</style>\n",
       "<table border=\"1\" class=\"dataframe\">\n",
       "  <thead>\n",
       "    <tr style=\"text-align: right;\">\n",
       "      <th></th>\n",
       "      <th>start_station_name</th>\n",
       "      <th>end_station_name</th>\n",
       "      <th>num_trips</th>\n",
       "    </tr>\n",
       "  </thead>\n",
       "  <tbody>\n",
       "    <tr>\n",
       "      <th>0</th>\n",
       "      <td>Harry Bridges Plaza (Ferry Building)</td>\n",
       "      <td>2nd at Townsend</td>\n",
       "      <td>5458</td>\n",
       "    </tr>\n",
       "    <tr>\n",
       "      <th>1</th>\n",
       "      <td>2nd at Townsend</td>\n",
       "      <td>Harry Bridges Plaza (Ferry Building)</td>\n",
       "      <td>5260</td>\n",
       "    </tr>\n",
       "    <tr>\n",
       "      <th>2</th>\n",
       "      <td>San Francisco Caltrain (Townsend at 4th)</td>\n",
       "      <td>Harry Bridges Plaza (Ferry Building)</td>\n",
       "      <td>5019</td>\n",
       "    </tr>\n",
       "    <tr>\n",
       "      <th>3</th>\n",
       "      <td>Embarcadero at Folsom</td>\n",
       "      <td>San Francisco Caltrain (Townsend at 4th)</td>\n",
       "      <td>4850</td>\n",
       "    </tr>\n",
       "    <tr>\n",
       "      <th>4</th>\n",
       "      <td>Steuart at Market</td>\n",
       "      <td>2nd at Townsend</td>\n",
       "      <td>4697</td>\n",
       "    </tr>\n",
       "  </tbody>\n",
       "</table>\n",
       "</div>"
      ],
      "text/plain": [
       "                         start_station_name  \\\n",
       "0      Harry Bridges Plaza (Ferry Building)   \n",
       "1                           2nd at Townsend   \n",
       "2  San Francisco Caltrain (Townsend at 4th)   \n",
       "3                     Embarcadero at Folsom   \n",
       "4                         Steuart at Market   \n",
       "\n",
       "                           end_station_name  num_trips  \n",
       "0                           2nd at Townsend       5458  \n",
       "1      Harry Bridges Plaza (Ferry Building)       5260  \n",
       "2      Harry Bridges Plaza (Ferry Building)       5019  \n",
       "3  San Francisco Caltrain (Townsend at 4th)       4850  \n",
       "4                           2nd at Townsend       4697  "
      ]
     },
     "execution_count": 4,
     "metadata": {},
     "output_type": "execute_result"
    }
   ],
   "source": [
    "df_commuter_trips"
   ]
  },
  {
   "cell_type": "markdown",
   "metadata": {},
   "source": [
    "It is interesting to note that Harry Bridges Plaza (Ferry Building) to 2nd at Townsend, as well as the reverse, both appear in the table. San Francisco Caltrain (Townsend at 4th) also appears multiple times in the table. In order to save commuter trips as a separate table for easy access in the future, we create a view of this table using the following SQL command:\n",
    "\n",
    "```\n",
    "CREATE VIEW `round-ring-276215.bikeshare_views.commuter_trips` AS\n",
    "(SELECT trips_non_holiday.*, stations_1.name official_start_station_name, stations_2.name official_end_station_name FROM\n",
    "\n",
    "   #LEFT JOIN with the holidays table to capture all entries in the bikeshare_trips table\n",
    "   #Keep only places the holidays table IS NULL (non-holidays)\n",
    "\n",
    "  (SELECT trips.* FROM `bigquery-public-data.san_francisco.bikeshare_trips` trips\n",
    "    LEFT JOIN `round-ring-276215.bikeshare_views.holidays` holidays\n",
    "    ON holidays.time =  CAST(trips.start_date AS DATE)\n",
    "    WHERE holidays.time IS NULL) trips_non_holiday\n",
    "    \n",
    "  #JOIN to the stations table twice in order to get the official start and end station names\n",
    "  #We discovered some name discrepancies in part 1\n",
    "  \n",
    "  JOIN `bigquery-public-data.san_francisco.bikeshare_stations` stations_1\n",
    "    ON trips_non_holiday.start_station_id = stations_1.station_id \n",
    "  JOIN `bigquery-public-data.san_francisco.bikeshare_stations` stations_2\n",
    "    ON trips_non_holiday.end_station_id = stations_2.station_id   \n",
    "  WHERE EXTRACT(DAYOFWEEK FROM start_date) BETWEEN 2 AND 6\n",
    "    AND (EXTRACT(HOUR FROM start_date) BETWEEN 6 AND 8\n",
    "      OR EXTRACT(HOUR FROM start_date) BETWEEN 17 AND 19)\n",
    "    AND duration_sec BETWEEN (60*5) AND (60*30)\n",
    "    AND start_station_id != end_station_id)\n",
    "```"
   ]
  },
  {
   "cell_type": "markdown",
   "metadata": {},
   "source": [
    "Based on the view above, we can easily see that there are a total of 356012 trips that we consider commuter trips."
   ]
  },
  {
   "cell_type": "code",
   "execution_count": 5,
   "metadata": {},
   "outputs": [
    {
     "data": {
      "text/html": [
       "<div>\n",
       "<style scoped>\n",
       "    .dataframe tbody tr th:only-of-type {\n",
       "        vertical-align: middle;\n",
       "    }\n",
       "\n",
       "    .dataframe tbody tr th {\n",
       "        vertical-align: top;\n",
       "    }\n",
       "\n",
       "    .dataframe thead th {\n",
       "        text-align: right;\n",
       "    }\n",
       "</style>\n",
       "<table border=\"1\" class=\"dataframe\">\n",
       "  <thead>\n",
       "    <tr style=\"text-align: right;\">\n",
       "      <th></th>\n",
       "      <th>num_commuter_trips</th>\n",
       "    </tr>\n",
       "  </thead>\n",
       "  <tbody>\n",
       "    <tr>\n",
       "      <th>0</th>\n",
       "      <td>356012</td>\n",
       "    </tr>\n",
       "  </tbody>\n",
       "</table>\n",
       "</div>"
      ],
      "text/plain": [
       "   num_commuter_trips\n",
       "0              356012"
      ]
     },
     "execution_count": 5,
     "metadata": {},
     "output_type": "execute_result"
    }
   ],
   "source": [
    "%%bigquery\n",
    "\n",
    "SELECT COUNT(*) num_commuter_trips\n",
    "FROM `round-ring-276215.bikeshare_views.commuter_trips`"
   ]
  },
  {
   "cell_type": "markdown",
   "metadata": {},
   "source": [
    "We can also find the average duration and standard deviation of the duration."
   ]
  },
  {
   "cell_type": "code",
   "execution_count": 6,
   "metadata": {},
   "outputs": [
    {
     "data": {
      "text/html": [
       "<div>\n",
       "<style scoped>\n",
       "    .dataframe tbody tr th:only-of-type {\n",
       "        vertical-align: middle;\n",
       "    }\n",
       "\n",
       "    .dataframe tbody tr th {\n",
       "        vertical-align: top;\n",
       "    }\n",
       "\n",
       "    .dataframe thead th {\n",
       "        text-align: right;\n",
       "    }\n",
       "</style>\n",
       "<table border=\"1\" class=\"dataframe\">\n",
       "  <thead>\n",
       "    <tr style=\"text-align: right;\">\n",
       "      <th></th>\n",
       "      <th>ave_commuter_mins</th>\n",
       "      <th>std_commuter_mins</th>\n",
       "    </tr>\n",
       "  </thead>\n",
       "  <tbody>\n",
       "    <tr>\n",
       "      <th>0</th>\n",
       "      <td>10.14</td>\n",
       "      <td>3.92</td>\n",
       "    </tr>\n",
       "  </tbody>\n",
       "</table>\n",
       "</div>"
      ],
      "text/plain": [
       "   ave_commuter_mins  std_commuter_mins\n",
       "0              10.14               3.92"
      ]
     },
     "execution_count": 6,
     "metadata": {},
     "output_type": "execute_result"
    }
   ],
   "source": [
    "%%bigquery\n",
    "\n",
    "SELECT ROUND(AVG(duration_sec) / 60, 2) ave_commuter_mins, ROUND(STDDEV(duration_sec) /60, 2) std_commuter_mins\n",
    "FROM `round-ring-276215.bikeshare_views.commuter_trips` "
   ]
  },
  {
   "cell_type": "markdown",
   "metadata": {},
   "source": [
    "### Top stations for corporate discount"
   ]
  },
  {
   "cell_type": "markdown",
   "metadata": {},
   "source": [
    "Next, we look further into commuter trips, we ask the question: \n",
    "\n",
    "**What are the most popular end stations from \"commuter trips\" in the morning commuter hours or most popular start stations from \"commuter trips\" in the afternoon hours?**\n",
    "\n",
    "The reason is that end stations for morning trips, and start stations from afternoon trips, should correspond to people's locations of their workplace. Such locations with lots of such trips would represent centralized corporate centers with untapped potential, which would make businesses near these stations prime target for a corporate commuter discount. In addition, in order to consider where we advertise for a corporate discount, we should narrow the query from the first question down further to consider only areas with high concentration of corporate offices. The following query, using the view created previously, gives us this information."
   ]
  },
  {
   "cell_type": "code",
   "execution_count": 7,
   "metadata": {},
   "outputs": [],
   "source": [
    "corporate_stations = '''\n",
    "SELECT corporate_station, COUNT(*) counts FROM\n",
    "  (SELECT official_start_station_name corporate_station FROM `round-ring-276215.bikeshare_views.commuter_trips` \n",
    "   UNION ALL\n",
    "   SELECT official_end_station_name corporate_station FROM `round-ring-276215.bikeshare_views.commuter_trips`)\n",
    "GROUP BY corporate_station\n",
    "ORDER BY counts DESC\n",
    "'''\n",
    "\n",
    "df_corporate_stations = client.query(corporate_stations).to_dataframe()"
   ]
  },
  {
   "cell_type": "markdown",
   "metadata": {},
   "source": [
    "The top 10 stations are below:"
   ]
  },
  {
   "cell_type": "code",
   "execution_count": 8,
   "metadata": {},
   "outputs": [
    {
     "data": {
      "text/html": [
       "<div>\n",
       "<style scoped>\n",
       "    .dataframe tbody tr th:only-of-type {\n",
       "        vertical-align: middle;\n",
       "    }\n",
       "\n",
       "    .dataframe tbody tr th {\n",
       "        vertical-align: top;\n",
       "    }\n",
       "\n",
       "    .dataframe thead th {\n",
       "        text-align: right;\n",
       "    }\n",
       "</style>\n",
       "<table border=\"1\" class=\"dataframe\">\n",
       "  <thead>\n",
       "    <tr style=\"text-align: right;\">\n",
       "      <th></th>\n",
       "      <th>corporate_station</th>\n",
       "      <th>counts</th>\n",
       "    </tr>\n",
       "  </thead>\n",
       "  <tbody>\n",
       "    <tr>\n",
       "      <th>0</th>\n",
       "      <td>San Francisco Caltrain (Townsend at 4th)</td>\n",
       "      <td>86085</td>\n",
       "    </tr>\n",
       "    <tr>\n",
       "      <th>1</th>\n",
       "      <td>San Francisco Caltrain 2 (330 Townsend)</td>\n",
       "      <td>54621</td>\n",
       "    </tr>\n",
       "    <tr>\n",
       "      <th>2</th>\n",
       "      <td>Harry Bridges Plaza (Ferry Building)</td>\n",
       "      <td>36419</td>\n",
       "    </tr>\n",
       "    <tr>\n",
       "      <th>3</th>\n",
       "      <td>Temporary Transbay Terminal (Howard at Beale)</td>\n",
       "      <td>35985</td>\n",
       "    </tr>\n",
       "    <tr>\n",
       "      <th>4</th>\n",
       "      <td>2nd at Townsend</td>\n",
       "      <td>33107</td>\n",
       "    </tr>\n",
       "    <tr>\n",
       "      <th>5</th>\n",
       "      <td>Steuart at Market</td>\n",
       "      <td>31018</td>\n",
       "    </tr>\n",
       "    <tr>\n",
       "      <th>6</th>\n",
       "      <td>Embarcadero at Sansome</td>\n",
       "      <td>27997</td>\n",
       "    </tr>\n",
       "    <tr>\n",
       "      <th>7</th>\n",
       "      <td>Townsend at 7th</td>\n",
       "      <td>24287</td>\n",
       "    </tr>\n",
       "    <tr>\n",
       "      <th>8</th>\n",
       "      <td>Market at Sansome</td>\n",
       "      <td>23997</td>\n",
       "    </tr>\n",
       "    <tr>\n",
       "      <th>9</th>\n",
       "      <td>Market at 10th</td>\n",
       "      <td>22360</td>\n",
       "    </tr>\n",
       "  </tbody>\n",
       "</table>\n",
       "</div>"
      ],
      "text/plain": [
       "                               corporate_station  counts\n",
       "0       San Francisco Caltrain (Townsend at 4th)   86085\n",
       "1        San Francisco Caltrain 2 (330 Townsend)   54621\n",
       "2           Harry Bridges Plaza (Ferry Building)   36419\n",
       "3  Temporary Transbay Terminal (Howard at Beale)   35985\n",
       "4                                2nd at Townsend   33107\n",
       "5                              Steuart at Market   31018\n",
       "6                         Embarcadero at Sansome   27997\n",
       "7                                Townsend at 7th   24287\n",
       "8                              Market at Sansome   23997\n",
       "9                                 Market at 10th   22360"
      ]
     },
     "execution_count": 8,
     "metadata": {},
     "output_type": "execute_result"
    }
   ],
   "source": [
    "df_corporate_stations.head(10)"
   ]
  },
  {
   "cell_type": "markdown",
   "metadata": {},
   "source": [
    "We will visualize the distribution of all such stations in a bar plot."
   ]
  },
  {
   "cell_type": "code",
   "execution_count": 9,
   "metadata": {},
   "outputs": [
    {
     "data": {
      "image/png": "[encoded data removed]",
      "text/plain": [
       "<Figure size 1008x504 with 1 Axes>"
      ]
     },
     "metadata": {
      "needs_background": "light"
     },
     "output_type": "display_data"
    }
   ],
   "source": [
    "fig = plt.figure(figsize = (14,7))\n",
    "plt.bar(df_corporate_stations.index, df_corporate_stations.counts)\n",
    "plt.title(\"Potential bike stations near corporate offices\", fontsize = 18)\n",
    "plt.xlabel(\"Bike stations (ordered by likelihood of being a corporate center)\", fontsize = 14)\n",
    "plt.ylabel(\"Number of pre-defined trips to/from bike station\", fontsize = 14)\n",
    "plt.annotate('Drop in trips', xy=(9.4, 21000), xytext=(20, 25000),\n",
    "            arrowprops=dict(facecolor='black', shrink=0.05),\n",
    "            fontsize = 15)\n",
    "plt.show()"
   ]
  },
  {
   "cell_type": "markdown",
   "metadata": {},
   "source": [
    "Based on the plot above, we see that there are two locations, both near San Francisco Caltrain, which might represent corporate centers. There also seems to be a drop in number of trips after the 10th station. As a result, we should consider corporate offices from the first 10 stations."
   ]
  },
  {
   "cell_type": "markdown",
   "metadata": {},
   "source": [
    "### Recruiting Customers for a Subscription"
   ]
  },
  {
   "cell_type": "markdown",
   "metadata": {},
   "source": [
    "One potential market are commuters who tried the service once, but perhaps forgot about signing up or need an additional incentive to make biking a full-time routine. As a result, we will look for non-subscribers (Customers) who we consider commuters. The following shows the top trips for which percentage of Customers were the largest. To eliminate station pairs for which there were very few trips, we require that the total number of trips for a station pair be at least 1000."
   ]
  },
  {
   "cell_type": "code",
   "execution_count": 10,
   "metadata": {},
   "outputs": [
    {
     "data": {
      "text/html": [
       "<div>\n",
       "<style scoped>\n",
       "    .dataframe tbody tr th:only-of-type {\n",
       "        vertical-align: middle;\n",
       "    }\n",
       "\n",
       "    .dataframe tbody tr th {\n",
       "        vertical-align: top;\n",
       "    }\n",
       "\n",
       "    .dataframe thead th {\n",
       "        text-align: right;\n",
       "    }\n",
       "</style>\n",
       "<table border=\"1\" class=\"dataframe\">\n",
       "  <thead>\n",
       "    <tr style=\"text-align: right;\">\n",
       "      <th></th>\n",
       "      <th>start_name</th>\n",
       "      <th>end_name</th>\n",
       "      <th>customer_trips</th>\n",
       "      <th>subscriber_trips</th>\n",
       "      <th>percent_customer_trips</th>\n",
       "    </tr>\n",
       "  </thead>\n",
       "  <tbody>\n",
       "    <tr>\n",
       "      <th>0</th>\n",
       "      <td>Embarcadero at Sansome</td>\n",
       "      <td>Harry Bridges Plaza (Ferry Building)</td>\n",
       "      <td>176</td>\n",
       "      <td>1164</td>\n",
       "      <td>13.13</td>\n",
       "    </tr>\n",
       "    <tr>\n",
       "      <th>1</th>\n",
       "      <td>Harry Bridges Plaza (Ferry Building)</td>\n",
       "      <td>Embarcadero at Sansome</td>\n",
       "      <td>316</td>\n",
       "      <td>2625</td>\n",
       "      <td>10.74</td>\n",
       "    </tr>\n",
       "    <tr>\n",
       "      <th>2</th>\n",
       "      <td>San Francisco Caltrain (Townsend at 4th)</td>\n",
       "      <td>Embarcadero at Sansome</td>\n",
       "      <td>89</td>\n",
       "      <td>1500</td>\n",
       "      <td>5.60</td>\n",
       "    </tr>\n",
       "    <tr>\n",
       "      <th>3</th>\n",
       "      <td>Harry Bridges Plaza (Ferry Building)</td>\n",
       "      <td>2nd at South Park</td>\n",
       "      <td>52</td>\n",
       "      <td>948</td>\n",
       "      <td>5.20</td>\n",
       "    </tr>\n",
       "    <tr>\n",
       "      <th>4</th>\n",
       "      <td>San Francisco Caltrain (Townsend at 4th)</td>\n",
       "      <td>Market at 10th</td>\n",
       "      <td>61</td>\n",
       "      <td>1240</td>\n",
       "      <td>4.69</td>\n",
       "    </tr>\n",
       "  </tbody>\n",
       "</table>\n",
       "</div>"
      ],
      "text/plain": [
       "                                 start_name  \\\n",
       "0                    Embarcadero at Sansome   \n",
       "1      Harry Bridges Plaza (Ferry Building)   \n",
       "2  San Francisco Caltrain (Townsend at 4th)   \n",
       "3      Harry Bridges Plaza (Ferry Building)   \n",
       "4  San Francisco Caltrain (Townsend at 4th)   \n",
       "\n",
       "                               end_name  customer_trips  subscriber_trips  \\\n",
       "0  Harry Bridges Plaza (Ferry Building)             176              1164   \n",
       "1                Embarcadero at Sansome             316              2625   \n",
       "2                Embarcadero at Sansome              89              1500   \n",
       "3                     2nd at South Park              52               948   \n",
       "4                        Market at 10th              61              1240   \n",
       "\n",
       "   percent_customer_trips  \n",
       "0                   13.13  \n",
       "1                   10.74  \n",
       "2                    5.60  \n",
       "3                    5.20  \n",
       "4                    4.69  "
      ]
     },
     "execution_count": 10,
     "metadata": {},
     "output_type": "execute_result"
    }
   ],
   "source": [
    "%%bigquery\n",
    "WITH subscriber_trips AS\n",
    "    (SELECT stations_1.name start_name, stations_2.name end_name, COUNT(*) subscriber_trips,  \n",
    "    FROM `round-ring-276215.bikeshare_views.commuter_trips` commuter_trips\n",
    "    JOIN `bigquery-public-data.san_francisco.bikeshare_stations` stations_1\n",
    "      ON commuter_trips.start_station_id = stations_1.station_id \n",
    "    JOIN `bigquery-public-data.san_francisco.bikeshare_stations` stations_2\n",
    "      ON commuter_trips.end_station_id = stations_2.station_id \n",
    "    WHERE subscriber_type = 'Subscriber'\n",
    "    GROUP BY start_name, end_name),\n",
    "customer_trips AS\n",
    "    (SELECT stations_1.name start_name, stations_2.name end_name, COUNT(*) customer_trips,  \n",
    "    FROM `round-ring-276215.bikeshare_views.commuter_trips` commuter_trips\n",
    "    JOIN `bigquery-public-data.san_francisco.bikeshare_stations` stations_1\n",
    "      ON commuter_trips.start_station_id = stations_1.station_id \n",
    "    JOIN `bigquery-public-data.san_francisco.bikeshare_stations` stations_2\n",
    "      ON commuter_trips.end_station_id = stations_2.station_id \n",
    "    WHERE subscriber_type = 'Customer'\n",
    "    GROUP BY start_name, end_name)\n",
    "SELECT s.start_name, s.end_name, c.customer_trips, s.subscriber_trips, \n",
    "       ROUND(c.customer_trips/(s.subscriber_trips + c.customer_trips) * 100, 2) percent_customer_trips\n",
    "FROM subscriber_trips s\n",
    "    JOIN customer_trips c\n",
    "    ON s.start_name = c.start_name\n",
    "    AND s.end_name = c.end_name\n",
    "WHERE c.customer_trips + s.subscriber_trips >= 1000\n",
    "ORDER BY percent_customer_trips DESC\n",
    "LIMIT 5"
   ]
  },
  {
   "cell_type": "markdown",
   "metadata": {},
   "source": [
    "We can see that the top entries in this chart that Embarcadero at Sansome to Harry Bridges Plaza (Ferry Building) has a high percentage of Customers compared to Subscribers (13.13%), as does the opposite route (likely afternoon vs morning trips). Therefore, focusing customers on this particular route would make the most sense."
   ]
  },
  {
   "cell_type": "markdown",
   "metadata": {},
   "source": [
    "### Discounts based on availability"
   ]
  },
  {
   "cell_type": "markdown",
   "metadata": {},
   "source": [
    "In part 2 of of the project, we looked at overall bike availability based on station. Here, in order to make recommendations more taylored to commuters, we will use similar queries to look at bike availability specifically during commuter hours. Namely, we ask the question:\n",
    "\n",
    "**During prime commuting hours, which bike stations have the most bikes available, and which have the least?**\n",
    "\n",
    "In order to answer this question, we will look at the average number of bikes available at each station during both morning and afternoon commuter hours. For example, for the station Embarcadero at Sansome, we will have two entries, one for average number of bikes between 6am - 9:59am, and one between 4pm - 7:59pm. In addition, to normalize for the fact that some stations are smaller than others, we will divide by the average number of available docks (available bikes + empty "
   ]
  },
  {
   "cell_type": "code",
   "execution_count": 11,
   "metadata": {},
   "outputs": [],
   "source": [
    "morning_afternoon_availability = '''\n",
    "WITH bike_capacity AS\n",
    "(SELECT status.station_id, AVG(bikes_available + docks_available) num_available\n",
    "FROM `bigquery-public-data.san_francisco.bikeshare_status` status\n",
    "GROUP BY station_id\n",
    ")\n",
    "SELECT stations.name station_name, ROUND(AVG(status.bikes_available / num_available) * 100, 2) average_pct_of_bikes_available,\n",
    "       CASE WHEN EXTRACT(HOUR FROM status.time) BETWEEN 6 AND 9 THEN 'morning_commuter_hours'\n",
    "            WHEN EXTRACT(HOUR FROM status.time) BETWEEN 16 AND 19 THEN 'afternoon_commuter_hours'\n",
    "       END segment\n",
    "FROM `bigquery-public-data.san_francisco.bikeshare_status` status\n",
    "JOIN `bigquery-public-data.san_francisco.bikeshare_stations` stations\n",
    "  ON status.station_id = stations.station_id \n",
    "JOIN bike_capacity\n",
    "  ON bike_capacity.station_id = status.station_id\n",
    "GROUP BY station_name, segment\n",
    "HAVING segment IS NOT NULL\n",
    "ORDER BY average_pct_of_bikes_available DESC\n",
    "'''\n",
    "\n",
    "df_morning_afternoon_availability = client.query(morning_afternoon_availability).to_dataframe()"
   ]
  },
  {
   "cell_type": "markdown",
   "metadata": {},
   "source": [
    "Below are the results for the top 5 stations with the MOST average percentage of bikes available. We can see that San Francisco Caltrain (Townsend at 4th) and Harry Bridges Plaza (Ferry Building) both have a large proportional of bikes available during afternoon commuter hours."
   ]
  },
  {
   "cell_type": "code",
   "execution_count": 12,
   "metadata": {},
   "outputs": [
    {
     "data": {
      "text/html": [
       "<div>\n",
       "<style scoped>\n",
       "    .dataframe tbody tr th:only-of-type {\n",
       "        vertical-align: middle;\n",
       "    }\n",
       "\n",
       "    .dataframe tbody tr th {\n",
       "        vertical-align: top;\n",
       "    }\n",
       "\n",
       "    .dataframe thead th {\n",
       "        text-align: right;\n",
       "    }\n",
       "</style>\n",
       "<table border=\"1\" class=\"dataframe\">\n",
       "  <thead>\n",
       "    <tr style=\"text-align: right;\">\n",
       "      <th></th>\n",
       "      <th>station_name</th>\n",
       "      <th>average_pct_of_bikes_available</th>\n",
       "      <th>segment</th>\n",
       "    </tr>\n",
       "  </thead>\n",
       "  <tbody>\n",
       "    <tr>\n",
       "      <th>0</th>\n",
       "      <td>San Francisco Caltrain (Townsend at 4th)</td>\n",
       "      <td>62.41</td>\n",
       "      <td>afternoon_commuter_hours</td>\n",
       "    </tr>\n",
       "    <tr>\n",
       "      <th>1</th>\n",
       "      <td>Harry Bridges Plaza (Ferry Building)</td>\n",
       "      <td>61.90</td>\n",
       "      <td>afternoon_commuter_hours</td>\n",
       "    </tr>\n",
       "    <tr>\n",
       "      <th>2</th>\n",
       "      <td>5th St at Folsom St</td>\n",
       "      <td>58.88</td>\n",
       "      <td>afternoon_commuter_hours</td>\n",
       "    </tr>\n",
       "    <tr>\n",
       "      <th>3</th>\n",
       "      <td>San Francisco Caltrain 2 (330 Townsend)</td>\n",
       "      <td>57.63</td>\n",
       "      <td>morning_commuter_hours</td>\n",
       "    </tr>\n",
       "    <tr>\n",
       "      <th>4</th>\n",
       "      <td>California Ave Caltrain Station</td>\n",
       "      <td>56.78</td>\n",
       "      <td>morning_commuter_hours</td>\n",
       "    </tr>\n",
       "  </tbody>\n",
       "</table>\n",
       "</div>"
      ],
      "text/plain": [
       "                               station_name  average_pct_of_bikes_available  \\\n",
       "0  San Francisco Caltrain (Townsend at 4th)                           62.41   \n",
       "1      Harry Bridges Plaza (Ferry Building)                           61.90   \n",
       "2                       5th St at Folsom St                           58.88   \n",
       "3   San Francisco Caltrain 2 (330 Townsend)                           57.63   \n",
       "4           California Ave Caltrain Station                           56.78   \n",
       "\n",
       "                    segment  \n",
       "0  afternoon_commuter_hours  \n",
       "1  afternoon_commuter_hours  \n",
       "2  afternoon_commuter_hours  \n",
       "3    morning_commuter_hours  \n",
       "4    morning_commuter_hours  "
      ]
     },
     "execution_count": 12,
     "metadata": {},
     "output_type": "execute_result"
    }
   ],
   "source": [
    "df_morning_afternoon_availability.head()"
   ]
  },
  {
   "cell_type": "markdown",
   "metadata": {},
   "source": [
    "Below are the results for the top 5 stations with the LEAST average percentage of bikes available. We can see that Cyril Magnin St at Ellis St has limit bike available during both morning and afternoon commuter hours."
   ]
  },
  {
   "cell_type": "code",
   "execution_count": 13,
   "metadata": {},
   "outputs": [
    {
     "data": {
      "text/html": [
       "<div>\n",
       "<style scoped>\n",
       "    .dataframe tbody tr th:only-of-type {\n",
       "        vertical-align: middle;\n",
       "    }\n",
       "\n",
       "    .dataframe tbody tr th {\n",
       "        vertical-align: top;\n",
       "    }\n",
       "\n",
       "    .dataframe thead th {\n",
       "        text-align: right;\n",
       "    }\n",
       "</style>\n",
       "<table border=\"1\" class=\"dataframe\">\n",
       "  <thead>\n",
       "    <tr style=\"text-align: right;\">\n",
       "      <th></th>\n",
       "      <th>station_name</th>\n",
       "      <th>average_pct_of_bikes_available</th>\n",
       "      <th>segment</th>\n",
       "    </tr>\n",
       "  </thead>\n",
       "  <tbody>\n",
       "    <tr>\n",
       "      <th>143</th>\n",
       "      <td>S. Market st at Park Ave</td>\n",
       "      <td>32.05</td>\n",
       "      <td>morning_commuter_hours</td>\n",
       "    </tr>\n",
       "    <tr>\n",
       "      <th>144</th>\n",
       "      <td>2nd at Folsom</td>\n",
       "      <td>28.81</td>\n",
       "      <td>morning_commuter_hours</td>\n",
       "    </tr>\n",
       "    <tr>\n",
       "      <th>145</th>\n",
       "      <td>S. Market st at Park Ave</td>\n",
       "      <td>27.51</td>\n",
       "      <td>afternoon_commuter_hours</td>\n",
       "    </tr>\n",
       "    <tr>\n",
       "      <th>146</th>\n",
       "      <td>Cyril Magnin St at Ellis St</td>\n",
       "      <td>15.03</td>\n",
       "      <td>morning_commuter_hours</td>\n",
       "    </tr>\n",
       "    <tr>\n",
       "      <th>147</th>\n",
       "      <td>Cyril Magnin St at Ellis St</td>\n",
       "      <td>11.54</td>\n",
       "      <td>afternoon_commuter_hours</td>\n",
       "    </tr>\n",
       "  </tbody>\n",
       "</table>\n",
       "</div>"
      ],
      "text/plain": [
       "                    station_name  average_pct_of_bikes_available  \\\n",
       "143     S. Market st at Park Ave                           32.05   \n",
       "144                2nd at Folsom                           28.81   \n",
       "145     S. Market st at Park Ave                           27.51   \n",
       "146  Cyril Magnin St at Ellis St                           15.03   \n",
       "147  Cyril Magnin St at Ellis St                           11.54   \n",
       "\n",
       "                      segment  \n",
       "143    morning_commuter_hours  \n",
       "144    morning_commuter_hours  \n",
       "145  afternoon_commuter_hours  \n",
       "146    morning_commuter_hours  \n",
       "147  afternoon_commuter_hours  "
      ]
     },
     "execution_count": 13,
     "metadata": {},
     "output_type": "execute_result"
    }
   ],
   "source": [
    "df_morning_afternoon_availability.tail()"
   ]
  },
  {
   "cell_type": "markdown",
   "metadata": {},
   "source": [
    "We now produce a visualization of percentage of bikes available for both afternoon and morning commuter hours."
   ]
  },
  {
   "cell_type": "code",
   "execution_count": 14,
   "metadata": {},
   "outputs": [],
   "source": [
    "#We merge the morning and afternoon into a single database with multiple entries based on station name\n",
    "morning = df_morning_afternoon_availability.loc[df_morning_afternoon_availability.segment == 'morning_commuter_hours']\n",
    "afternoon = df_morning_afternoon_availability.loc[df_morning_afternoon_availability.segment == 'afternoon_commuter_hours']\n",
    "df_availability = morning.merge(afternoon, on='station_name').iloc[:, [0,1,3]]\n",
    "df_availability.columns = ['station_name', 'average_pct_of_bikes_available_morn', 'average_pct_of_bikes_available_afternoon']\n",
    "\n",
    "#This is just how we sort stations for plotting\n",
    "df_availability['summed'] = df_availability.average_pct_of_bikes_available_morn + df_availability. average_pct_of_bikes_available_afternoon\n",
    "df_availability = df_availability.sort_values('summed', ascending = False) \n"
   ]
  },
  {
   "cell_type": "code",
   "execution_count": 15,
   "metadata": {},
   "outputs": [
    {
     "data": {
      "text/html": [
       "<div>\n",
       "<style scoped>\n",
       "    .dataframe tbody tr th:only-of-type {\n",
       "        vertical-align: middle;\n",
       "    }\n",
       "\n",
       "    .dataframe tbody tr th {\n",
       "        vertical-align: top;\n",
       "    }\n",
       "\n",
       "    .dataframe thead th {\n",
       "        text-align: right;\n",
       "    }\n",
       "</style>\n",
       "<table border=\"1\" class=\"dataframe\">\n",
       "  <thead>\n",
       "    <tr style=\"text-align: right;\">\n",
       "      <th></th>\n",
       "      <th>station_name</th>\n",
       "      <th>average_pct_of_bikes_available_morn</th>\n",
       "      <th>average_pct_of_bikes_available_afternoon</th>\n",
       "      <th>summed</th>\n",
       "    </tr>\n",
       "  </thead>\n",
       "  <tbody>\n",
       "    <tr>\n",
       "      <th>69</th>\n",
       "      <td>Commercial at Montgomery</td>\n",
       "      <td>36.80</td>\n",
       "      <td>34.51</td>\n",
       "      <td>71.31</td>\n",
       "    </tr>\n",
       "    <tr>\n",
       "      <th>70</th>\n",
       "      <td>Market at 10th</td>\n",
       "      <td>33.55</td>\n",
       "      <td>36.28</td>\n",
       "      <td>69.83</td>\n",
       "    </tr>\n",
       "    <tr>\n",
       "      <th>72</th>\n",
       "      <td>2nd at Folsom</td>\n",
       "      <td>28.81</td>\n",
       "      <td>33.84</td>\n",
       "      <td>62.65</td>\n",
       "    </tr>\n",
       "    <tr>\n",
       "      <th>71</th>\n",
       "      <td>S. Market st at Park Ave</td>\n",
       "      <td>32.05</td>\n",
       "      <td>27.51</td>\n",
       "      <td>59.56</td>\n",
       "    </tr>\n",
       "    <tr>\n",
       "      <th>73</th>\n",
       "      <td>Cyril Magnin St at Ellis St</td>\n",
       "      <td>15.03</td>\n",
       "      <td>11.54</td>\n",
       "      <td>26.57</td>\n",
       "    </tr>\n",
       "  </tbody>\n",
       "</table>\n",
       "</div>"
      ],
      "text/plain": [
       "                   station_name  average_pct_of_bikes_available_morn  \\\n",
       "69     Commercial at Montgomery                                36.80   \n",
       "70               Market at 10th                                33.55   \n",
       "72                2nd at Folsom                                28.81   \n",
       "71     S. Market st at Park Ave                                32.05   \n",
       "73  Cyril Magnin St at Ellis St                                15.03   \n",
       "\n",
       "    average_pct_of_bikes_available_afternoon  summed  \n",
       "69                                     34.51   71.31  \n",
       "70                                     36.28   69.83  \n",
       "72                                     33.84   62.65  \n",
       "71                                     27.51   59.56  \n",
       "73                                     11.54   26.57  "
      ]
     },
     "execution_count": 15,
     "metadata": {},
     "output_type": "execute_result"
    }
   ],
   "source": [
    "df_availability.tail()"
   ]
  },
  {
   "cell_type": "code",
   "execution_count": 16,
   "metadata": {},
   "outputs": [
    {
     "data": {
      "image/png": "[encoded data removed]",
      "text/plain": [
       "<Figure size 576x1080 with 1 Axes>"
      ]
     },
     "metadata": {
      "needs_background": "light"
     },
     "output_type": "display_data"
    }
   ],
   "source": [
    "# Plot the total crashes\n",
    "f, ax = plt.subplots(figsize=(8, 15))\n",
    "sns.set(style=\"whitegrid\")\n",
    "\n",
    "sns.set_color_codes(\"pastel\")\n",
    "sns.barplot(x=\"summed\", y=\"station_name\", data=df_availability,\n",
    "            label=\"morning_avail\", color=\"b\").set_title('Percent available bikes ordered by station', fontsize = 20)\n",
    "\n",
    "# Plot the crashes where alcohol was involved\n",
    "sns.set_color_codes(\"muted\")\n",
    "sns.barplot(x=\"average_pct_of_bikes_available_afternoon\", y=\"station_name\", data=df_availability,\n",
    "            label=\"afternoon_avail\", color=\"b\")\n",
    "\n",
    "ax.legend(ncol=1, loc=\"lower right\", frameon=False)\n",
    "ax.set(xlim=(0, 130), ylabel=\"\",\n",
    "       xlabel=\"Percent bikes available at each station\")\n",
    "sns.despine(left=True, bottom=True)\n"
   ]
  },
  {
   "cell_type": "markdown",
   "metadata": {},
   "source": [
    "Based on the plot, we can see that Cyril Magnin St at Ellis St is chronically low on bikes during commuter hours, and appears to be an ourlier. Several of the stations at the top of the plot are high in the number of bikes available, but there doesn't appear to be any outliers."
   ]
  },
  {
   "cell_type": "markdown",
   "metadata": {},
   "source": [
    "## Final Recommendation Based on Commuter Trips"
   ]
  },
  {
   "cell_type": "markdown",
   "metadata": {},
   "source": [
    "Based on the tables and visualizations generated above, we produce the following recommendations:\n",
    "\n",
    "1. Harry Bridges Plaza (Ferry Building) to 2nd at Townsend, and San Francisco Caltrain (Townsend at 4th) to Harry Bridges Plaza (Ferry Building), are the two most popular commuter trips, and all three of these stations are in the top 5 stations which we predict to be located in corporate centers. Large corporate centers means potential for an untapped market by the masses, because it could incentive large groups of people at these companies to join the service. The first recommendation is to offer **corporate discounts to employees of companies located in the vicinity of these stations**. Other corporate centers predicted based on commuter start and end stations are San Francisco Caltrain 2 (330 Townsend) and Temporary Transbay Terminal (Howard at Beale), and offering discounts to employees of businesses near there stations could also bring in new customers by the masses.\n",
    "\n",
    "2. Greater than 10% of rides between Embarcadero at Sansome to Harry Bridges Plaza (Ferry Building), and vice-versa, that fit our description of a commuter, are taken by Customers (non-subscribers) rather than Subscribers, significantly higher than the next station pair (at around 5%). As a result, these are customers who tried the service once and just forgot about it for future trips. The next recommendation is track down these commuters and offer **annual discounts**, with the hope they will be swayed to pay for an annual subscription.\n",
    "\n",
    "3. For stations where there are lots of bikes available during commuter hours, it would be worthwhile to offer discounts for individuals to take bikes at these locations during these times. This would allow bikes to clear up from these stations, and also potentially land somewhere where there is a bike deficit. We also want to avoid full bike racks (cannot dock a bike), so this would help alleviate that. Similarly, for stations with reduced bikes, we should incentivize individuals to return bikes from these locations. Cyril Magnin St at Ellis St is chronically low on bikes during commuter hours, so we should offer **discounts to individuals who return during at this location either morning or afternoon commuter hours**, with the hope that they pick this station over a slightly more convenient one for the discount and still make it to work on time. We might also considering adding more bike racks at this station. Similarly, San Francisco Caltrain (Townsend at 4th), Harry Bridges Plaza (Ferry Building), among many others, have a large availability of bikes during commuter hours. As a result, we should offer **discounts to individuals who take bikes at these locations**, in order to keep stations relatively evenly balanced for commuters.\n"
   ]
  },
  {
   "cell_type": "markdown",
   "metadata": {},
   "source": [
    "# Non-commuter criteria"
   ]
  },
  {
   "cell_type": "markdown",
   "metadata": {},
   "source": [
    "### Commuter versus Subscriber"
   ]
  },
  {
   "cell_type": "markdown",
   "metadata": {},
   "source": [
    "Since we saw in Part 1 that Customers tend to take more intercity trips than subscribers, a natural question to ask is: \n",
    "\n",
    "**Do Customers also take longer trips than Subscribers, and if so, is there any way we can convert those Customers to Subscribers?**\n",
    "\n",
    "In order to calculate this, we look at the average trip length for Subscribers versus Customers during each day of the week. We limit our search to what we saw was reasonable in Part 2: more than 5 minutes, but less than 3 hours. We also will include error bars defined by the 95% confidence interval for the mean duration of the trips.\n"
   ]
  },
  {
   "cell_type": "code",
   "execution_count": 17,
   "metadata": {},
   "outputs": [],
   "source": [
    "cust_sub_duration = '''\n",
    "WITH num_trips_each_type AS\n",
    "(SELECT subscriber_type, COUNT(*) num \n",
    "FROM `bigquery-public-data.san_francisco.bikeshare_trips` \n",
    "WHERE duration_sec BETWEEN (5 * 60) AND (3 * 60 * 60)\n",
    "GROUP BY subscriber_type)\n",
    "SELECT t.subscriber_type, EXTRACT(DAYOFWEEK FROM start_date) day, \n",
    "       ROUND(AVG(duration_sec)/60, 2) average_duration_min, \n",
    "       2 * STDDEV(duration_sec/60)/SQRT(num) CI_95\n",
    "FROM `bigquery-public-data.san_francisco.bikeshare_trips` t\n",
    "JOIN num_trips_each_type n\n",
    "ON n.subscriber_type = t.subscriber_type\n",
    "WHERE duration_sec BETWEEN (5 * 60) AND (3 * 60 * 60)\n",
    "GROUP BY day, subscriber_type,num\n",
    "ORDER BY subscriber_type, day\n",
    "'''\n",
    "\n",
    "df_cust_sub_duration = client.query(cust_sub_duration).to_dataframe()"
   ]
  },
  {
   "cell_type": "markdown",
   "metadata": {},
   "source": [
    "We will visualize the output in a line plot with error bars."
   ]
  },
  {
   "cell_type": "code",
   "execution_count": 18,
   "metadata": {},
   "outputs": [],
   "source": [
    "#Mapping day of week to a text\n",
    "dayofweek = {1: 'Sunday',\n",
    "             2: 'Monday', \n",
    "             3: 'Tuesday',\n",
    "             4: 'Wednesday', \n",
    "             5: 'Thursday', \n",
    "             6: 'Friday',\n",
    "             7: 'Saturday'}\n",
    "\n",
    "customers = df_cust_sub_duration[df_cust_sub_duration.subscriber_type == 'Customer' ]\n",
    "subscriber = df_cust_sub_duration[df_cust_sub_duration.subscriber_type == 'Subscriber' ]"
   ]
  },
  {
   "cell_type": "code",
   "execution_count": 19,
   "metadata": {},
   "outputs": [
    {
     "data": {
      "text/plain": [
       "Index(['subscriber_type', 'day', 'average_duration_min', 'CI_95'], dtype='object')"
      ]
     },
     "execution_count": 19,
     "metadata": {},
     "output_type": "execute_result"
    }
   ],
   "source": [
    "customers.columns"
   ]
  },
  {
   "cell_type": "code",
   "execution_count": 20,
   "metadata": {},
   "outputs": [
    {
     "data": {
      "text/plain": [
       "<matplotlib.legend.Legend at 0x7f0830fa3a50>"
      ]
     },
     "execution_count": 20,
     "metadata": {},
     "output_type": "execute_result"
    },
    {
     "data": {
      "image/png": "[encoded data removed]",
      "text/plain": [
       "<Figure size 864x432 with 1 Axes>"
      ]
     },
     "metadata": {},
     "output_type": "display_data"
    }
   ],
   "source": [
    "fig = plt.figure(figsize = (12,6))\n",
    "plt.scatter([dayofweek[i] for i in customers.day], customers.average_duration_min, label = 'Customers', s = 60)\n",
    "plt.plot([dayofweek[i] for i in customers.day], customers.average_duration_min)\n",
    "plt.errorbar([dayofweek[i] for i in customers.day], customers.average_duration_min, yerr = customers.CI_95, linestyle=\"None\")\n",
    "\n",
    "plt.scatter([dayofweek[i] for i in subscriber.day], subscriber.average_duration_min, label = 'Subscribers', c = 'red', s = 60)\n",
    "plt.plot([dayofweek[i] for i in subscriber.day], subscriber.average_duration_min, c = 'red')\n",
    "plt.errorbar([dayofweek[i] for i in subscriber.day], subscriber.average_duration_min, yerr = subscriber.CI_95, linestyle=\"None\")\n",
    "\n",
    "plt.ylim(0, 40)\n",
    "plt.xticks(rotation=45)\n",
    "plt.xlabel(\"Day of the week\")\n",
    "plt.ylabel(\"Average duration of rides\")\n",
    "plt.title(\"Average duration of rides based on customer type\", fontsize = 20)\n",
    "plt.legend()"
   ]
  },
  {
   "cell_type": "markdown",
   "metadata": {},
   "source": [
    "First of all, due to our sample size, the error bars are not visiable, but there is clearly a trend that Customers tend to take longer trips than Subscribers. Surprisingly, Customers take longer trips on weekends than on weekdays. One hypothesis is that there are two groups of people: a lot of tourists will take trips on weekends, whereas a good proportion of weekday riders only ride the service once in a while due to the price. As a result, the Customers who take long trips on weekdays is a good target for group discount."
   ]
  },
  {
   "cell_type": "markdown",
   "metadata": {},
   "source": [
    "### Specific Bike Usage"
   ]
  },
  {
   "cell_type": "markdown",
   "metadata": {},
   "source": [
    "We would like specific bikes to be used roughly equally. Bikes that are overused might need to retire earlier, and bikes that are underused isn't bringing in as much value. Bikes that are used too often require more maintainence, so we want to try to keep underused bikes moving. This might be the case when for example when a bike in the middle of a rack is never touched because the sides are easier to access, and there are always extra bikes docked. We might considering offering discounts to individuals who take these bikes and use them in order to even out usage. Here, we ask:\n",
    "\n",
    "**What are the 5 least used bikes, and 5 most used bikes?**\n",
    "\n",
    "Also, we limit our query to trips that last at least 5 minutes, and no more than 3 hours. To prevent outliers, we look at only trips that lasted at least 5 minutes (300 seconds) but no more than 3 hours (10800 seconds)"
   ]
  },
  {
   "cell_type": "code",
   "execution_count": 21,
   "metadata": {},
   "outputs": [
    {
     "data": {
      "text/html": [
       "<div>\n",
       "<style scoped>\n",
       "    .dataframe tbody tr th:only-of-type {\n",
       "        vertical-align: middle;\n",
       "    }\n",
       "\n",
       "    .dataframe tbody tr th {\n",
       "        vertical-align: top;\n",
       "    }\n",
       "\n",
       "    .dataframe thead th {\n",
       "        text-align: right;\n",
       "    }\n",
       "</style>\n",
       "<table border=\"1\" class=\"dataframe\">\n",
       "  <thead>\n",
       "    <tr style=\"text-align: right;\">\n",
       "      <th></th>\n",
       "      <th>bike_number</th>\n",
       "      <th>uses</th>\n",
       "    </tr>\n",
       "  </thead>\n",
       "  <tbody>\n",
       "    <tr>\n",
       "      <th>0</th>\n",
       "      <td>389</td>\n",
       "      <td>2390</td>\n",
       "    </tr>\n",
       "    <tr>\n",
       "      <th>1</th>\n",
       "      <td>392</td>\n",
       "      <td>2361</td>\n",
       "    </tr>\n",
       "    <tr>\n",
       "      <th>2</th>\n",
       "      <td>503</td>\n",
       "      <td>2361</td>\n",
       "    </tr>\n",
       "    <tr>\n",
       "      <th>3</th>\n",
       "      <td>415</td>\n",
       "      <td>2327</td>\n",
       "    </tr>\n",
       "    <tr>\n",
       "      <th>4</th>\n",
       "      <td>625</td>\n",
       "      <td>2325</td>\n",
       "    </tr>\n",
       "    <tr>\n",
       "      <th>5</th>\n",
       "      <td>876</td>\n",
       "      <td>4</td>\n",
       "    </tr>\n",
       "    <tr>\n",
       "      <th>6</th>\n",
       "      <td>697</td>\n",
       "      <td>9</td>\n",
       "    </tr>\n",
       "    <tr>\n",
       "      <th>7</th>\n",
       "      <td>34</td>\n",
       "      <td>17</td>\n",
       "    </tr>\n",
       "    <tr>\n",
       "      <th>8</th>\n",
       "      <td>323</td>\n",
       "      <td>18</td>\n",
       "    </tr>\n",
       "    <tr>\n",
       "      <th>9</th>\n",
       "      <td>565</td>\n",
       "      <td>19</td>\n",
       "    </tr>\n",
       "  </tbody>\n",
       "</table>\n",
       "</div>"
      ],
      "text/plain": [
       "   bike_number  uses\n",
       "0          389  2390\n",
       "1          392  2361\n",
       "2          503  2361\n",
       "3          415  2327\n",
       "4          625  2325\n",
       "5          876     4\n",
       "6          697     9\n",
       "7           34    17\n",
       "8          323    18\n",
       "9          565    19"
      ]
     },
     "execution_count": 21,
     "metadata": {},
     "output_type": "execute_result"
    }
   ],
   "source": [
    "%%bigquery\n",
    "(SELECT bike_number, COUNT(*) uses \n",
    "FROM `bigquery-public-data.san_francisco.bikeshare_trips`\n",
    "WHERE duration_sec BETWEEN (5 * 60) AND (3 * 60 * 60)\n",
    "GROUP BY bike_number\n",
    "ORDER BY uses DESC\n",
    "LIMIT 5)\n",
    "UNION ALL\n",
    "(SELECT bike_number, COUNT(*) uses \n",
    "FROM `bigquery-public-data.san_francisco.bikeshare_trips`\n",
    "WHERE duration_sec BETWEEN (5 * 60) AND (3 * 60 * 60)\n",
    "GROUP BY bike_number\n",
    "ORDER BY uses\n",
    "LIMIT 5)"
   ]
  },
  {
   "cell_type": "markdown",
   "metadata": {},
   "source": [
    "Here, we see a very large discrepancy between frequently used bikes and less used bikes, from 4 uses total in this time period, to 2325 uses."
   ]
  },
  {
   "cell_type": "markdown",
   "metadata": {},
   "source": [
    "### Least busy day and 3-hour window"
   ]
  },
  {
   "cell_type": "markdown",
   "metadata": {},
   "source": [
    "We might wish to offer a general discount to all inviduals new to the service for a single ride in order to get more brand and customer exposure. However, we would not want to offer this at the most busy times. We would risk running out of bikes, and risk losing paying customers. Here, we ask the question:\n",
    "\n",
    "**What is the least busy 3-hour window on any day of the week?**\n",
    "\n",
    "To limit the search down further, we will want to restrict our search to desirable hours. We may not be very busy at 3am on Tuesday morning, but offering a one-time trial to anyone new the service at this hour will not attract too much attention. As a result, we will only search 3-hour windows start between 8am and 5pm.\n",
    "\n",
    "To do this, we will calculating a rolling average on the average number of available bikes across all stations. We will filter the data to only include rows from 8am to 7pm (in order to provide an 3-hour window for the last data point at 5pm), and then calculate the average of each three row. The following query does this."
   ]
  },
  {
   "cell_type": "code",
   "execution_count": 22,
   "metadata": {},
   "outputs": [],
   "source": [
    "three_hour_window = '''\n",
    "SELECT day_week, date_hour, ROUND(AVG(avg_avail_bikes) OVER (ORDER BY day_week, date_hour ROWS BETWEEN CURRENT ROW AND 2 FOLLOWING), 2) rolling_avg_3\n",
    "  FROM (\n",
    "      SELECT EXTRACT(DAYOFWEEK FROM time) day_week, EXTRACT(HOUR FROM time) date_hour, AVG(bikes_available) avg_avail_bikes\n",
    "      FROM `bigquery-public-data.san_francisco.bikeshare_status` status\n",
    "      JOIN `bigquery-public-data.san_francisco.bikeshare_stations` stations\n",
    "      ON status.station_id = stations.station_id \n",
    "      WHERE EXTRACT(HOUR FROM time) BETWEEN 8 AND 19\n",
    "      GROUP BY 1, 2\n",
    "      ORDER BY 1, 2)\n",
    "  WHERE date_hour <= 17\n",
    "  ORDER BY rolling_avg_3 DESC\n",
    "'''\n",
    "\n",
    "df_3hr_window = client.query(three_hour_window).to_dataframe()"
   ]
  },
  {
   "cell_type": "markdown",
   "metadata": {},
   "source": [
    "We will now look at the top 5 3-hour windows for while we have the most average number of bikes free, and the bottom 3-hour windows for which we have the least number of bikes free."
   ]
  },
  {
   "cell_type": "code",
   "execution_count": 23,
   "metadata": {},
   "outputs": [
    {
     "data": {
      "text/html": [
       "<div>\n",
       "<style scoped>\n",
       "    .dataframe tbody tr th:only-of-type {\n",
       "        vertical-align: middle;\n",
       "    }\n",
       "\n",
       "    .dataframe tbody tr th {\n",
       "        vertical-align: top;\n",
       "    }\n",
       "\n",
       "    .dataframe thead th {\n",
       "        text-align: right;\n",
       "    }\n",
       "</style>\n",
       "<table border=\"1\" class=\"dataframe\">\n",
       "  <thead>\n",
       "    <tr style=\"text-align: right;\">\n",
       "      <th></th>\n",
       "      <th>day_week</th>\n",
       "      <th>date_hour</th>\n",
       "      <th>rolling_avg_3</th>\n",
       "    </tr>\n",
       "  </thead>\n",
       "  <tbody>\n",
       "    <tr>\n",
       "      <th>0</th>\n",
       "      <td>7</td>\n",
       "      <td>8</td>\n",
       "      <td>8.34</td>\n",
       "    </tr>\n",
       "    <tr>\n",
       "      <th>1</th>\n",
       "      <td>1</td>\n",
       "      <td>8</td>\n",
       "      <td>8.31</td>\n",
       "    </tr>\n",
       "    <tr>\n",
       "      <th>2</th>\n",
       "      <td>7</td>\n",
       "      <td>9</td>\n",
       "      <td>8.29</td>\n",
       "    </tr>\n",
       "    <tr>\n",
       "      <th>3</th>\n",
       "      <td>1</td>\n",
       "      <td>9</td>\n",
       "      <td>8.26</td>\n",
       "    </tr>\n",
       "    <tr>\n",
       "      <th>4</th>\n",
       "      <td>7</td>\n",
       "      <td>10</td>\n",
       "      <td>8.23</td>\n",
       "    </tr>\n",
       "  </tbody>\n",
       "</table>\n",
       "</div>"
      ],
      "text/plain": [
       "   day_week  date_hour  rolling_avg_3\n",
       "0         7          8           8.34\n",
       "1         1          8           8.31\n",
       "2         7          9           8.29\n",
       "3         1          9           8.26\n",
       "4         7         10           8.23"
      ]
     },
     "execution_count": 23,
     "metadata": {},
     "output_type": "execute_result"
    }
   ],
   "source": [
    "df_3hr_window.head()"
   ]
  },
  {
   "cell_type": "code",
   "execution_count": 24,
   "metadata": {},
   "outputs": [
    {
     "data": {
      "text/html": [
       "<div>\n",
       "<style scoped>\n",
       "    .dataframe tbody tr th:only-of-type {\n",
       "        vertical-align: middle;\n",
       "    }\n",
       "\n",
       "    .dataframe tbody tr th {\n",
       "        vertical-align: top;\n",
       "    }\n",
       "\n",
       "    .dataframe thead th {\n",
       "        text-align: right;\n",
       "    }\n",
       "</style>\n",
       "<table border=\"1\" class=\"dataframe\">\n",
       "  <thead>\n",
       "    <tr style=\"text-align: right;\">\n",
       "      <th></th>\n",
       "      <th>day_week</th>\n",
       "      <th>date_hour</th>\n",
       "      <th>rolling_avg_3</th>\n",
       "    </tr>\n",
       "  </thead>\n",
       "  <tbody>\n",
       "    <tr>\n",
       "      <th>65</th>\n",
       "      <td>4</td>\n",
       "      <td>17</td>\n",
       "      <td>7.86</td>\n",
       "    </tr>\n",
       "    <tr>\n",
       "      <th>66</th>\n",
       "      <td>3</td>\n",
       "      <td>16</td>\n",
       "      <td>7.82</td>\n",
       "    </tr>\n",
       "    <tr>\n",
       "      <th>67</th>\n",
       "      <td>2</td>\n",
       "      <td>16</td>\n",
       "      <td>7.81</td>\n",
       "    </tr>\n",
       "    <tr>\n",
       "      <th>68</th>\n",
       "      <td>3</td>\n",
       "      <td>17</td>\n",
       "      <td>7.80</td>\n",
       "    </tr>\n",
       "    <tr>\n",
       "      <th>69</th>\n",
       "      <td>2</td>\n",
       "      <td>17</td>\n",
       "      <td>7.79</td>\n",
       "    </tr>\n",
       "  </tbody>\n",
       "</table>\n",
       "</div>"
      ],
      "text/plain": [
       "    day_week  date_hour  rolling_avg_3\n",
       "65         4         17           7.86\n",
       "66         3         16           7.82\n",
       "67         2         16           7.81\n",
       "68         3         17           7.80\n",
       "69         2         17           7.79"
      ]
     },
     "execution_count": 24,
     "metadata": {},
     "output_type": "execute_result"
    }
   ],
   "source": [
    "df_3hr_window.tail()"
   ]
  },
  {
   "cell_type": "markdown",
   "metadata": {},
   "source": [
    "It looks like we have the most number of bikes on weekends starting at 8am or 9am. This makes sense as many people will likely be sleeping one weekends this early. The least availability are on Tuesday and Wednesday from 4pm-7pm and 5pm-8pm, which are prime commuter hours. \n",
    "\n",
    "We will now visualize the number of bikes available on a heatmap, where on one axis we have the day of the week, and on the second, we have the beginning time of our 3-hour window."
   ]
  },
  {
   "cell_type": "code",
   "execution_count": 25,
   "metadata": {},
   "outputs": [
    {
     "data": {
      "text/html": [
       "<div>\n",
       "<style scoped>\n",
       "    .dataframe tbody tr th:only-of-type {\n",
       "        vertical-align: middle;\n",
       "    }\n",
       "\n",
       "    .dataframe tbody tr th {\n",
       "        vertical-align: top;\n",
       "    }\n",
       "\n",
       "    .dataframe thead th {\n",
       "        text-align: right;\n",
       "    }\n",
       "</style>\n",
       "<table border=\"1\" class=\"dataframe\">\n",
       "  <thead>\n",
       "    <tr style=\"text-align: right;\">\n",
       "      <th>date_hour</th>\n",
       "      <th>8</th>\n",
       "      <th>9</th>\n",
       "      <th>10</th>\n",
       "      <th>11</th>\n",
       "      <th>12</th>\n",
       "      <th>13</th>\n",
       "      <th>14</th>\n",
       "      <th>15</th>\n",
       "      <th>16</th>\n",
       "      <th>17</th>\n",
       "    </tr>\n",
       "    <tr>\n",
       "      <th>day_week</th>\n",
       "      <th></th>\n",
       "      <th></th>\n",
       "      <th></th>\n",
       "      <th></th>\n",
       "      <th></th>\n",
       "      <th></th>\n",
       "      <th></th>\n",
       "      <th></th>\n",
       "      <th></th>\n",
       "      <th></th>\n",
       "    </tr>\n",
       "  </thead>\n",
       "  <tbody>\n",
       "    <tr>\n",
       "      <th>1</th>\n",
       "      <td>8.31</td>\n",
       "      <td>8.26</td>\n",
       "      <td>8.21</td>\n",
       "      <td>8.17</td>\n",
       "      <td>8.14</td>\n",
       "      <td>8.12</td>\n",
       "      <td>8.10</td>\n",
       "      <td>8.11</td>\n",
       "      <td>8.03</td>\n",
       "      <td>7.96</td>\n",
       "    </tr>\n",
       "    <tr>\n",
       "      <th>2</th>\n",
       "      <td>7.93</td>\n",
       "      <td>8.02</td>\n",
       "      <td>8.09</td>\n",
       "      <td>8.13</td>\n",
       "      <td>8.17</td>\n",
       "      <td>8.17</td>\n",
       "      <td>8.09</td>\n",
       "      <td>7.92</td>\n",
       "      <td>7.81</td>\n",
       "      <td>7.79</td>\n",
       "    </tr>\n",
       "    <tr>\n",
       "      <th>3</th>\n",
       "      <td>7.89</td>\n",
       "      <td>7.98</td>\n",
       "      <td>8.06</td>\n",
       "      <td>8.11</td>\n",
       "      <td>8.15</td>\n",
       "      <td>8.16</td>\n",
       "      <td>8.08</td>\n",
       "      <td>7.91</td>\n",
       "      <td>7.82</td>\n",
       "      <td>7.80</td>\n",
       "    </tr>\n",
       "    <tr>\n",
       "      <th>4</th>\n",
       "      <td>7.93</td>\n",
       "      <td>8.02</td>\n",
       "      <td>8.10</td>\n",
       "      <td>8.15</td>\n",
       "      <td>8.20</td>\n",
       "      <td>8.20</td>\n",
       "      <td>8.12</td>\n",
       "      <td>7.96</td>\n",
       "      <td>7.87</td>\n",
       "      <td>7.86</td>\n",
       "    </tr>\n",
       "    <tr>\n",
       "      <th>5</th>\n",
       "      <td>7.97</td>\n",
       "      <td>8.06</td>\n",
       "      <td>8.13</td>\n",
       "      <td>8.18</td>\n",
       "      <td>8.21</td>\n",
       "      <td>8.21</td>\n",
       "      <td>8.14</td>\n",
       "      <td>7.99</td>\n",
       "      <td>7.94</td>\n",
       "      <td>7.94</td>\n",
       "    </tr>\n",
       "    <tr>\n",
       "      <th>6</th>\n",
       "      <td>8.06</td>\n",
       "      <td>8.11</td>\n",
       "      <td>8.15</td>\n",
       "      <td>8.18</td>\n",
       "      <td>8.20</td>\n",
       "      <td>8.20</td>\n",
       "      <td>8.13</td>\n",
       "      <td>8.00</td>\n",
       "      <td>8.07</td>\n",
       "      <td>8.18</td>\n",
       "    </tr>\n",
       "    <tr>\n",
       "      <th>7</th>\n",
       "      <td>8.34</td>\n",
       "      <td>8.29</td>\n",
       "      <td>8.23</td>\n",
       "      <td>8.18</td>\n",
       "      <td>8.15</td>\n",
       "      <td>8.13</td>\n",
       "      <td>8.11</td>\n",
       "      <td>8.12</td>\n",
       "      <td>8.13</td>\n",
       "      <td>8.16</td>\n",
       "    </tr>\n",
       "  </tbody>\n",
       "</table>\n",
       "</div>"
      ],
      "text/plain": [
       "date_hour    8     9     10    11    12    13    14    15    16    17\n",
       "day_week                                                             \n",
       "1          8.31  8.26  8.21  8.17  8.14  8.12  8.10  8.11  8.03  7.96\n",
       "2          7.93  8.02  8.09  8.13  8.17  8.17  8.09  7.92  7.81  7.79\n",
       "3          7.89  7.98  8.06  8.11  8.15  8.16  8.08  7.91  7.82  7.80\n",
       "4          7.93  8.02  8.10  8.15  8.20  8.20  8.12  7.96  7.87  7.86\n",
       "5          7.97  8.06  8.13  8.18  8.21  8.21  8.14  7.99  7.94  7.94\n",
       "6          8.06  8.11  8.15  8.18  8.20  8.20  8.13  8.00  8.07  8.18\n",
       "7          8.34  8.29  8.23  8.18  8.15  8.13  8.11  8.12  8.13  8.16"
      ]
     },
     "execution_count": 25,
     "metadata": {},
     "output_type": "execute_result"
    }
   ],
   "source": [
    "#Convert to a pivot tab-el\n",
    "pivot = df_3hr_window.pivot_table(index = 'day_week', columns='date_hour',values='rolling_avg_3',fill_value=0)\n",
    "pivot"
   ]
  },
  {
   "cell_type": "code",
   "execution_count": 26,
   "metadata": {},
   "outputs": [
    {
     "data": {
      "image/png": "[encoded data removed]",
      "text/plain": [
       "<Figure size 720x432 with 2 Axes>"
      ]
     },
     "metadata": {},
     "output_type": "display_data"
    }
   ],
   "source": [
    "dayofweek = {1: 'Sunday',\n",
    "             2: 'Monday', \n",
    "             3: 'Tuesday',\n",
    "             4: 'Wednesday', \n",
    "             5: 'Thursday', \n",
    "             6: 'Friday',\n",
    "             7: 'Saturday'}\n",
    "pivot.index = [dayofweek[i] for i in pivot.index]\n",
    "pivot.columns.name = 'Starting hour of 3hr window'\n",
    "fig = plt.figure(figsize = (10,6))\n",
    "sns.heatmap(pivot).set_title(\"Bikes available by dayofweek and 3-hr window\", fontsize = 15);\n"
   ]
  },
  {
   "cell_type": "markdown",
   "metadata": {},
   "source": [
    "Based on this heatmap, we see that the least busy hours overall across all stations is Saturday and Sunday starting at 8am, and ending at 11am. For weekdays, Wednesday-Friday, and in fact all weekdays, starting at 11am (until 2pm) is also a less busy time window for weekdays (the same time is busy for weekends)."
   ]
  },
  {
   "cell_type": "markdown",
   "metadata": {},
   "source": [
    "## Final Recommendation Based on All Trips"
   ]
  },
  {
   "cell_type": "markdown",
   "metadata": {},
   "source": [
    "Based on the tables and visualizations generated above, we produce the following recommendations:\n",
    "\n",
    "1. Based on analysis of Customer duration trend versus Subscriber, we see that Customers on average ride much longer than Subscribers, and that there appears to be two groups of Customers. The first takes very long rides on weekends, and the second takes longer than Subscriber rides on weekdays. We believe that those on weekends are likely tourists and a difficult market to target, but those on weekdays represent an untapped local market. We recommend offering **a special package for Subscribers that provides discounts or reducing the penality on longer rides for** so that Customers who routinely need longer checkout times on weekdays will be more inclined to buy this package and Subscribe, leading to greater usage from this group of people.\n",
    "\n",
    "2. The usage for a specific bike can differ drastically, ranging from 4 rides in the entire span of the data, to over 2300. In order to even out specific bike usage, we recommend **one-time discounts to those who checkout infrequently used bikes** with the hope that these individuals will make the extra effort to find a rarely used bike, and park at a frequently visited location in order for that bike to get more usage. Based on the analysis, bikes 876, 697, and 34 are all great candidates.\n",
    "\n",
    "3. In order to promote the service to the greater population, and not just commuters, we recommend offering a free ride to individuals in order to try out the service. However, we wish to restrict the time window during which this offer can be redeemed, so that popular times such as commuter hours do not experience bike shortage that could potentially upset current paying customers. At the same time, we do not want to restrict customers to highly unpopular hours, such as Tuesday at 3am, as very few people would enjoy taking advantage of this offer. As a result, we analyzed the total average number of bikes we have for any given 3hr window on any weekday starting at 8am to 5pm. We recommend offering **a free single ride under 1hr to new customers, which can be redeemed anytime on Saturday or Sunday between 8am and 11am, or Weekdays between 11am and 1pm**. These are the times when we have the most bikes available across all stations, and avoids highly busy hours such as afternoons during weekends, and commuter hours during the weekdays."
   ]
  }
 ],
 "metadata": {
  "environment": {
   "name": "tf2-gpu.2-1.m46",
   "type": "gcloud",
   "uri": "gcr.io/deeplearning-platform-release/tf2-gpu.2-1:m46"
  },
  "kernelspec": {
   "display_name": "Python 3",
   "language": "python",
   "name": "python3"
  },
  "language_info": {
   "codemirror_mode": {
    "name": "ipython",
    "version": 3
   },
   "file_extension": ".py",
   "mimetype": "text/x-python",
   "name": "python",
   "nbconvert_exporter": "python",
   "pygments_lexer": "ipython3",
   "version": "3.7.6"
  }
 },
 "nbformat": 4,
 "nbformat_minor": 4
}
