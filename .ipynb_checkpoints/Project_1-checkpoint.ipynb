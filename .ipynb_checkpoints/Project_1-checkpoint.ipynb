{
 "cells": [
  {
   "cell_type": "code",
   "execution_count": 1,
   "metadata": {},
   "outputs": [],
   "source": [
    "import numpy as np\n",
    "import pandas as pd\n",
    "import matplotlib.pyplot as plt\n",
    "import seaborn as sns\n",
    "%matplotlib inline\n",
    "from google.cloud import bigquery\n",
    "client = bigquery.Client()\n"
   ]
  },
  {
   "cell_type": "markdown",
   "metadata": {},
   "source": [
    "# Commuter Trips"
   ]
  },
  {
   "cell_type": "markdown",
   "metadata": {},
   "source": [
    "## Top 5 most popular commuter trips"
   ]
  },
  {
   "cell_type": "markdown",
   "metadata": {},
   "source": [
    "In order to identify the 5 most popular commuter trips, we must first define what a commuter trip is. In order to do this, we consider characteristics of a commuter trip.  We set the following 4 criteria:\n",
    "\n",
    "1. Since by definition commuters are going from home to work, or vice-versa, commuter trips must not be round trips. In other words, trips should start and end at different locations.\n",
    "2. Most commuters will not travel on weekends and public holidays. While some commuters will work weekends and holidays, this accounts for a minority, and accounting for trips on these days might increase our false positives (for example, we would imagine that most trips taken on say 4th of July are leisurely, even if some are for work).\n",
    "3. Most commuters will work during the day, and prime commuting time is between 6am - 9:59am (prime time for leaving for work) and between 4pm - 7:59pm (prime time for leaving from work). The range should cover most of regular commuters, and provides a large enough window to account for individuals with different work hours (for example, younger people tend to work later hours and also arrive later).\n",
    "4. Duration of the trips will matter. Commuters will most likely choose a different form of transportation if their journey on a bike is too time. At the same time, if it is too short, they may opt to walk rather than spend money on renting a bike. For our definition, we require trips to last at least 5 minutes, but not more than 30 minutes. We showed in Part 2 that 5 minute trips are most likely tests conducted near the Lyft HQ. For trips >30min, since there is an extra charge for longer durations than 30mins (as discussed in class), this would not sustainable, and customers would likely find another way to commute.\n",
    "\n",
    "We could have added additional criteria, such as evaluating whether the start station of the morning trip is from a residential location, rather than say business to business (some people might use these bikes to go between locations during work). While our definition will not be perfect and will not capture every single commuter trip in the dataset, it should capture a large portion of commuter trips without having a large false positive rate. \n",
    "\n",
    "As a side note, station pair order matters when we count distinct commuter trips. For example, a trip at 8am from station A to station B does NOT count as the same station pair as a trip at 6pm from station B to station A. We count commuter trips starting and ending at different locations as distinct, meaning that for the top 5 most popular trips, we may very well see both A to B and B to A.\n",
    "\n",
    "In order to tackle this question, we first build a view that corresponds to public holidays during this time period. This was done manually by uploading a [csv](https://github.com/mids-w205-schioberg/project-1-siduojiang/blob/assignment/holidays.csv) file into Google BigQuery and storing it as a table. The following table shows the dates and first 5 entries of the holidays table."
   ]
  },
  {
   "cell_type": "code",
   "execution_count": 5,
   "metadata": {},
   "outputs": [
    {
     "data": {
      "text/html": [
       "<div>\n",
       "<style scoped>\n",
       "    .dataframe tbody tr th:only-of-type {\n",
       "        vertical-align: middle;\n",
       "    }\n",
       "\n",
       "    .dataframe tbody tr th {\n",
       "        vertical-align: top;\n",
       "    }\n",
       "\n",
       "    .dataframe thead th {\n",
       "        text-align: right;\n",
       "    }\n",
       "</style>\n",
       "<table border=\"1\" class=\"dataframe\">\n",
       "  <thead>\n",
       "    <tr style=\"text-align: right;\">\n",
       "      <th></th>\n",
       "      <th>time</th>\n",
       "      <th>day</th>\n",
       "    </tr>\n",
       "  </thead>\n",
       "  <tbody>\n",
       "    <tr>\n",
       "      <th>0</th>\n",
       "      <td>2013-01-01</td>\n",
       "      <td>New Year's Day</td>\n",
       "    </tr>\n",
       "    <tr>\n",
       "      <th>1</th>\n",
       "      <td>2013-01-21</td>\n",
       "      <td>Martin Luther King Jr. Day</td>\n",
       "    </tr>\n",
       "    <tr>\n",
       "      <th>2</th>\n",
       "      <td>2013-02-18</td>\n",
       "      <td>Washington's Birthday</td>\n",
       "    </tr>\n",
       "    <tr>\n",
       "      <th>3</th>\n",
       "      <td>2013-05-27</td>\n",
       "      <td>Memorial Day</td>\n",
       "    </tr>\n",
       "    <tr>\n",
       "      <th>4</th>\n",
       "      <td>2013-07-04</td>\n",
       "      <td>Independence Day</td>\n",
       "    </tr>\n",
       "  </tbody>\n",
       "</table>\n",
       "</div>"
      ],
      "text/plain": [
       "         time                         day\n",
       "0  2013-01-01              New Year's Day\n",
       "1  2013-01-21  Martin Luther King Jr. Day\n",
       "2  2013-02-18       Washington's Birthday\n",
       "3  2013-05-27                Memorial Day\n",
       "4  2013-07-04            Independence Day"
      ]
     },
     "execution_count": 5,
     "metadata": {},
     "output_type": "execute_result"
    }
   ],
   "source": [
    "%%bigquery\n",
    "\n",
    "SELECT * FROM `round-ring-276215.bikeshare_views.holidays` \n",
    "ORDER BY time\n",
    "LIMIT 5"
   ]
  },
  {
   "cell_type": "markdown",
   "metadata": {},
   "source": [
    "Based on this operational definition of commuters, we arrive at the following trips as the top 5 most popular commuter trips in our dataset."
   ]
  },
  {
   "cell_type": "code",
   "execution_count": 12,
   "metadata": {},
   "outputs": [],
   "source": [
    "commuter_trips = '''\n",
    "WITH commuter_trips AS \n",
    "  (SELECT * FROM\n",
    "     #LEFT JOIN with the holidays table to capture all entries in the bikeshare_trips table\n",
    "     #Keep only places the holidays table IS NULL (non-holidays)\n",
    "    (SELECT trips.* FROM `bigquery-public-data.san_francisco.bikeshare_trips` trips\n",
    "      LEFT JOIN `round-ring-276215.bikeshare_views.holidays` holidays\n",
    "      ON holidays.time =  CAST(trips.start_date AS DATE)\n",
    "      WHERE holidays.time IS NULL) trips_non_holiday\n",
    "    WHERE EXTRACT(DAYOFWEEK FROM start_date) BETWEEN 2 AND 6\n",
    "      AND (EXTRACT(HOUR FROM start_date) BETWEEN 6 AND 9\n",
    "        OR EXTRACT(HOUR FROM start_date) BETWEEN 16 AND 19)\n",
    "      AND duration_sec BETWEEN (60*5) AND (60*30)\n",
    "      AND start_station_id != end_station_id)        \n",
    "  SELECT stations_1.name start_station_name, stations_2.name end_station_name, COUNT(*) num_trips \n",
    "    FROM commuter_trips \n",
    "    JOIN `bigquery-public-data.san_francisco.bikeshare_stations` stations_1\n",
    "    ON commuter_trips.start_station_id = stations_1.station_id \n",
    "    JOIN `bigquery-public-data.san_francisco.bikeshare_stations` stations_2\n",
    "    ON commuter_trips.end_station_id = stations_2.station_id \n",
    "  GROUP BY start_station_name, end_station_name\n",
    "  ORDER BY num_trips DESC\n",
    "  LIMIT 5\n",
    "'''\n",
    "\n",
    "df_commuter_trips = client.query(commuter_trips).to_dataframe()"
   ]
  },
  {
   "cell_type": "code",
   "execution_count": 13,
   "metadata": {},
   "outputs": [
    {
     "data": {
      "text/html": [
       "<div>\n",
       "<style scoped>\n",
       "    .dataframe tbody tr th:only-of-type {\n",
       "        vertical-align: middle;\n",
       "    }\n",
       "\n",
       "    .dataframe tbody tr th {\n",
       "        vertical-align: top;\n",
       "    }\n",
       "\n",
       "    .dataframe thead th {\n",
       "        text-align: right;\n",
       "    }\n",
       "</style>\n",
       "<table border=\"1\" class=\"dataframe\">\n",
       "  <thead>\n",
       "    <tr style=\"text-align: right;\">\n",
       "      <th></th>\n",
       "      <th>start_station_name</th>\n",
       "      <th>end_station_name</th>\n",
       "      <th>num_trips</th>\n",
       "    </tr>\n",
       "  </thead>\n",
       "  <tbody>\n",
       "    <tr>\n",
       "      <th>0</th>\n",
       "      <td>Harry Bridges Plaza (Ferry Building)</td>\n",
       "      <td>2nd at Townsend</td>\n",
       "      <td>5458</td>\n",
       "    </tr>\n",
       "    <tr>\n",
       "      <th>1</th>\n",
       "      <td>2nd at Townsend</td>\n",
       "      <td>Harry Bridges Plaza (Ferry Building)</td>\n",
       "      <td>5260</td>\n",
       "    </tr>\n",
       "    <tr>\n",
       "      <th>2</th>\n",
       "      <td>San Francisco Caltrain (Townsend at 4th)</td>\n",
       "      <td>Harry Bridges Plaza (Ferry Building)</td>\n",
       "      <td>5019</td>\n",
       "    </tr>\n",
       "    <tr>\n",
       "      <th>3</th>\n",
       "      <td>Embarcadero at Folsom</td>\n",
       "      <td>San Francisco Caltrain (Townsend at 4th)</td>\n",
       "      <td>4850</td>\n",
       "    </tr>\n",
       "    <tr>\n",
       "      <th>4</th>\n",
       "      <td>Steuart at Market</td>\n",
       "      <td>2nd at Townsend</td>\n",
       "      <td>4697</td>\n",
       "    </tr>\n",
       "  </tbody>\n",
       "</table>\n",
       "</div>"
      ],
      "text/plain": [
       "                         start_station_name  \\\n",
       "0      Harry Bridges Plaza (Ferry Building)   \n",
       "1                           2nd at Townsend   \n",
       "2  San Francisco Caltrain (Townsend at 4th)   \n",
       "3                     Embarcadero at Folsom   \n",
       "4                         Steuart at Market   \n",
       "\n",
       "                           end_station_name  num_trips  \n",
       "0                           2nd at Townsend       5458  \n",
       "1      Harry Bridges Plaza (Ferry Building)       5260  \n",
       "2      Harry Bridges Plaza (Ferry Building)       5019  \n",
       "3  San Francisco Caltrain (Townsend at 4th)       4850  \n",
       "4                           2nd at Townsend       4697  "
      ]
     },
     "execution_count": 13,
     "metadata": {},
     "output_type": "execute_result"
    }
   ],
   "source": [
    "df_commuter_trips"
   ]
  },
  {
   "cell_type": "markdown",
   "metadata": {},
   "source": [
    "It is interesting to note that Harry Bridges Plaza (Ferry Building) to 2nd at Townsend, as well as the reverse, both appear in the table. San Francisco Caltrain (Townsend at 4th) also appears multiple times in the table. In order to save commuter trips as a separate table for easy access in the future, we create a view of this table using the following SQL command:\n",
    "\n",
    "```\n",
    "CREATE VIEW `round-ring-276215.bikeshare_views.commuter_trips` AS\n",
    "(SELECT trips_non_holiday.*, stations_1.name official_start_station_name, stations_2.name official_end_station_name FROM\n",
    "\n",
    "   #LEFT JOIN with the holidays table to capture all entries in the bikeshare_trips table\n",
    "   #Keep only places the holidays table IS NULL (non-holidays)\n",
    "\n",
    "  (SELECT trips.* FROM `bigquery-public-data.san_francisco.bikeshare_trips` trips\n",
    "    LEFT JOIN `round-ring-276215.bikeshare_views.holidays` holidays\n",
    "    ON holidays.time =  CAST(trips.start_date AS DATE)\n",
    "    WHERE holidays.time IS NULL) trips_non_holiday\n",
    "    \n",
    "  #JOIN to the stations table twice in order to get the official start and end station names\n",
    "  #We discovered some name discrepancies in part 1\n",
    "  \n",
    "  JOIN `bigquery-public-data.san_francisco.bikeshare_stations` stations_1\n",
    "    ON trips_non_holiday.start_station_id = stations_1.station_id \n",
    "  JOIN `bigquery-public-data.san_francisco.bikeshare_stations` stations_2\n",
    "    ON trips_non_holiday.end_station_id = stations_2.station_id   \n",
    "  WHERE EXTRACT(DAYOFWEEK FROM start_date) BETWEEN 2 AND 6\n",
    "    AND (EXTRACT(HOUR FROM start_date) BETWEEN 6 AND 8\n",
    "      OR EXTRACT(HOUR FROM start_date) BETWEEN 17 AND 19)\n",
    "    AND duration_sec BETWEEN (60*5) AND (60*30)\n",
    "    AND start_station_id != end_station_id)\n",
    "```"
   ]
  },
  {
   "cell_type": "markdown",
   "metadata": {},
   "source": [
    "Based on the view above, we can easily see that there are a total of 356012 trips that we consider commuter trips."
   ]
  },
  {
   "cell_type": "code",
   "execution_count": 19,
   "metadata": {},
   "outputs": [
    {
     "data": {
      "text/html": [
       "<div>\n",
       "<style scoped>\n",
       "    .dataframe tbody tr th:only-of-type {\n",
       "        vertical-align: middle;\n",
       "    }\n",
       "\n",
       "    .dataframe tbody tr th {\n",
       "        vertical-align: top;\n",
       "    }\n",
       "\n",
       "    .dataframe thead th {\n",
       "        text-align: right;\n",
       "    }\n",
       "</style>\n",
       "<table border=\"1\" class=\"dataframe\">\n",
       "  <thead>\n",
       "    <tr style=\"text-align: right;\">\n",
       "      <th></th>\n",
       "      <th>num_commuter_trips</th>\n",
       "    </tr>\n",
       "  </thead>\n",
       "  <tbody>\n",
       "    <tr>\n",
       "      <th>0</th>\n",
       "      <td>356012</td>\n",
       "    </tr>\n",
       "  </tbody>\n",
       "</table>\n",
       "</div>"
      ],
      "text/plain": [
       "   num_commuter_trips\n",
       "0              356012"
      ]
     },
     "execution_count": 19,
     "metadata": {},
     "output_type": "execute_result"
    }
   ],
   "source": [
    "%%bigquery\n",
    "\n",
    "SELECT COUNT(*) num_commuter_trips\n",
    "FROM `round-ring-276215.bikeshare_views.commuter_trips`"
   ]
  },
  {
   "cell_type": "markdown",
   "metadata": {},
   "source": [
    "We can also find the average duration and standard deviation of the duration."
   ]
  },
  {
   "cell_type": "code",
   "execution_count": 65,
   "metadata": {},
   "outputs": [
    {
     "data": {
      "text/html": [
       "<div>\n",
       "<style scoped>\n",
       "    .dataframe tbody tr th:only-of-type {\n",
       "        vertical-align: middle;\n",
       "    }\n",
       "\n",
       "    .dataframe tbody tr th {\n",
       "        vertical-align: top;\n",
       "    }\n",
       "\n",
       "    .dataframe thead th {\n",
       "        text-align: right;\n",
       "    }\n",
       "</style>\n",
       "<table border=\"1\" class=\"dataframe\">\n",
       "  <thead>\n",
       "    <tr style=\"text-align: right;\">\n",
       "      <th></th>\n",
       "      <th>ave_commuter_mins</th>\n",
       "      <th>std_commuter_mins</th>\n",
       "    </tr>\n",
       "  </thead>\n",
       "  <tbody>\n",
       "    <tr>\n",
       "      <th>0</th>\n",
       "      <td>10.14</td>\n",
       "      <td>3.92</td>\n",
       "    </tr>\n",
       "  </tbody>\n",
       "</table>\n",
       "</div>"
      ],
      "text/plain": [
       "   ave_commuter_mins  std_commuter_mins\n",
       "0              10.14               3.92"
      ]
     },
     "execution_count": 65,
     "metadata": {},
     "output_type": "execute_result"
    }
   ],
   "source": [
    "%%bigquery\n",
    "\n",
    "SELECT ROUND(AVG(duration_sec) / 60, 2) ave_commuter_mins, ROUND(STDDEV(duration_sec) /60, 2) std_commuter_mins\n",
    "FROM `round-ring-276215.bikeshare_views.commuter_trips` "
   ]
  },
  {
   "cell_type": "markdown",
   "metadata": {},
   "source": [
    "### Top stations for corporate discount"
   ]
  },
  {
   "cell_type": "markdown",
   "metadata": {},
   "source": [
    "Next, we look further into commuter trips, we ask the question: \n",
    "\n",
    "**What are the most popular end stations from \"commuter trips\" in the morning commuter hours or most popular start stations from \"commuter trips\" in the afternoon hours?**\n",
    "\n",
    "The reason is that end stations for morning trips, and start stations from afternoon trips, should correspond to people's locations of their workplace. Such locations with lots of such trips would represent centralized corporate centers with untapped potential, which would make businesses near these stations prime target for a corporate commuter discount. In addition, in order to consider where we advertise for a corporate discount, we should narrow the query from the first question down further to consider only areas with high concentration of corporate offices. The following query, using the view created previously, gives us this information."
   ]
  },
  {
   "cell_type": "code",
   "execution_count": 23,
   "metadata": {},
   "outputs": [],
   "source": [
    "corporate_stations = '''\n",
    "SELECT corporate_station, COUNT(*) counts FROM\n",
    "  (SELECT official_start_station_name corporate_station FROM `round-ring-276215.bikeshare_views.commuter_trips` \n",
    "   UNION ALL\n",
    "   SELECT official_end_station_name corporate_station FROM `round-ring-276215.bikeshare_views.commuter_trips`)\n",
    "GROUP BY corporate_station\n",
    "ORDER BY counts DESC\n",
    "'''\n",
    "\n",
    "df_corporate_stations = client.query(corporate_stations).to_dataframe()"
   ]
  },
  {
   "cell_type": "markdown",
   "metadata": {},
   "source": [
    "The top 10 stations are below:"
   ]
  },
  {
   "cell_type": "code",
   "execution_count": 64,
   "metadata": {},
   "outputs": [
    {
     "data": {
      "text/html": [
       "<div>\n",
       "<style scoped>\n",
       "    .dataframe tbody tr th:only-of-type {\n",
       "        vertical-align: middle;\n",
       "    }\n",
       "\n",
       "    .dataframe tbody tr th {\n",
       "        vertical-align: top;\n",
       "    }\n",
       "\n",
       "    .dataframe thead th {\n",
       "        text-align: right;\n",
       "    }\n",
       "</style>\n",
       "<table border=\"1\" class=\"dataframe\">\n",
       "  <thead>\n",
       "    <tr style=\"text-align: right;\">\n",
       "      <th></th>\n",
       "      <th>corporate_station</th>\n",
       "      <th>counts</th>\n",
       "    </tr>\n",
       "  </thead>\n",
       "  <tbody>\n",
       "    <tr>\n",
       "      <th>0</th>\n",
       "      <td>San Francisco Caltrain (Townsend at 4th)</td>\n",
       "      <td>86085</td>\n",
       "    </tr>\n",
       "    <tr>\n",
       "      <th>1</th>\n",
       "      <td>San Francisco Caltrain 2 (330 Townsend)</td>\n",
       "      <td>54621</td>\n",
       "    </tr>\n",
       "    <tr>\n",
       "      <th>2</th>\n",
       "      <td>Harry Bridges Plaza (Ferry Building)</td>\n",
       "      <td>36419</td>\n",
       "    </tr>\n",
       "    <tr>\n",
       "      <th>3</th>\n",
       "      <td>Temporary Transbay Terminal (Howard at Beale)</td>\n",
       "      <td>35985</td>\n",
       "    </tr>\n",
       "    <tr>\n",
       "      <th>4</th>\n",
       "      <td>2nd at Townsend</td>\n",
       "      <td>33107</td>\n",
       "    </tr>\n",
       "    <tr>\n",
       "      <th>5</th>\n",
       "      <td>Steuart at Market</td>\n",
       "      <td>31018</td>\n",
       "    </tr>\n",
       "    <tr>\n",
       "      <th>6</th>\n",
       "      <td>Embarcadero at Sansome</td>\n",
       "      <td>27997</td>\n",
       "    </tr>\n",
       "    <tr>\n",
       "      <th>7</th>\n",
       "      <td>Townsend at 7th</td>\n",
       "      <td>24287</td>\n",
       "    </tr>\n",
       "    <tr>\n",
       "      <th>8</th>\n",
       "      <td>Market at Sansome</td>\n",
       "      <td>23997</td>\n",
       "    </tr>\n",
       "    <tr>\n",
       "      <th>9</th>\n",
       "      <td>Market at 10th</td>\n",
       "      <td>22360</td>\n",
       "    </tr>\n",
       "  </tbody>\n",
       "</table>\n",
       "</div>"
      ],
      "text/plain": [
       "                               corporate_station  counts\n",
       "0       San Francisco Caltrain (Townsend at 4th)   86085\n",
       "1        San Francisco Caltrain 2 (330 Townsend)   54621\n",
       "2           Harry Bridges Plaza (Ferry Building)   36419\n",
       "3  Temporary Transbay Terminal (Howard at Beale)   35985\n",
       "4                                2nd at Townsend   33107\n",
       "5                              Steuart at Market   31018\n",
       "6                         Embarcadero at Sansome   27997\n",
       "7                                Townsend at 7th   24287\n",
       "8                              Market at Sansome   23997\n",
       "9                                 Market at 10th   22360"
      ]
     },
     "execution_count": 64,
     "metadata": {},
     "output_type": "execute_result"
    }
   ],
   "source": [
    "df_corporate_stations.head(10)"
   ]
  },
  {
   "cell_type": "markdown",
   "metadata": {},
   "source": [
    "We will visualize the distribution of all such stations in a bar plot."
   ]
  },
  {
   "cell_type": "code",
   "execution_count": 67,
   "metadata": {},
   "outputs": [
    {
     "data": {
      "image/png": "[encoded data removed]",
      "text/plain": [
       "<Figure size 1008x504 with 1 Axes>"
      ]
     },
     "metadata": {
      "needs_background": "light"
     },
     "output_type": "display_data"
    }
   ],
   "source": [
    "fig = plt.figure(figsize = (14,7))\n",
    "plt.bar(df_corporate_stations.index, df_corporate_stations.counts)\n",
    "plt.title(\"Potential bike stations near corporate offices\", fontsize = 18)\n",
    "plt.xlabel(\"Bike stations (ordered by likelihood of being a corporate center)\", fontsize = 14)\n",
    "plt.ylabel(\"Number of pre-defined trips to/from bike station\", fontsize = 14)\n",
    "plt.annotate('Drop in trips', xy=(9.4, 21000), xytext=(20, 25000),\n",
    "            arrowprops=dict(facecolor='black', shrink=0.05),\n",
    "            fontsize = 15)\n",
    "plt.show()"
   ]
  },
  {
   "cell_type": "markdown",
   "metadata": {},
   "source": [
    "Based on the plot above, we see that there are two locations, both near San Francisco Caltrain, which might represent corporate centers. There also seems to be a drop in number of trips after the 10th station. As a result, we should consider corporate offices from the first 10 stations."
   ]
  },
  {
   "cell_type": "markdown",
   "metadata": {},
   "source": [
    "### Recruiting Customers for a Subscription"
   ]
  },
  {
   "cell_type": "markdown",
   "metadata": {},
   "source": [
    "One potential market are commuters who tried the service once, but perhaps forgot about signing up or need an additional incentive to make biking a full-time routine. As a result, we will look for non-subscribers (Customers) who we consider commuters. The following shows the top trips for which percentage of Customers were the largest. To eliminate station pairs for which there were very few trips, we require that the total number of trips for a station pair be at least 1000."
   ]
  },
  {
   "cell_type": "code",
   "execution_count": 26,
   "metadata": {},
   "outputs": [
    {
     "data": {
      "text/html": [
       "<div>\n",
       "<style scoped>\n",
       "    .dataframe tbody tr th:only-of-type {\n",
       "        vertical-align: middle;\n",
       "    }\n",
       "\n",
       "    .dataframe tbody tr th {\n",
       "        vertical-align: top;\n",
       "    }\n",
       "\n",
       "    .dataframe thead th {\n",
       "        text-align: right;\n",
       "    }\n",
       "</style>\n",
       "<table border=\"1\" class=\"dataframe\">\n",
       "  <thead>\n",
       "    <tr style=\"text-align: right;\">\n",
       "      <th></th>\n",
       "      <th>start_name</th>\n",
       "      <th>end_name</th>\n",
       "      <th>customer_trips</th>\n",
       "      <th>subscriber_trips</th>\n",
       "      <th>percent_customer_trips</th>\n",
       "    </tr>\n",
       "  </thead>\n",
       "  <tbody>\n",
       "    <tr>\n",
       "      <th>0</th>\n",
       "      <td>Embarcadero at Sansome</td>\n",
       "      <td>Harry Bridges Plaza (Ferry Building)</td>\n",
       "      <td>176</td>\n",
       "      <td>1164</td>\n",
       "      <td>13.13</td>\n",
       "    </tr>\n",
       "    <tr>\n",
       "      <th>1</th>\n",
       "      <td>Harry Bridges Plaza (Ferry Building)</td>\n",
       "      <td>Embarcadero at Sansome</td>\n",
       "      <td>316</td>\n",
       "      <td>2625</td>\n",
       "      <td>10.74</td>\n",
       "    </tr>\n",
       "    <tr>\n",
       "      <th>2</th>\n",
       "      <td>San Francisco Caltrain (Townsend at 4th)</td>\n",
       "      <td>Embarcadero at Sansome</td>\n",
       "      <td>89</td>\n",
       "      <td>1500</td>\n",
       "      <td>5.60</td>\n",
       "    </tr>\n",
       "    <tr>\n",
       "      <th>3</th>\n",
       "      <td>Harry Bridges Plaza (Ferry Building)</td>\n",
       "      <td>2nd at South Park</td>\n",
       "      <td>52</td>\n",
       "      <td>948</td>\n",
       "      <td>5.20</td>\n",
       "    </tr>\n",
       "    <tr>\n",
       "      <th>4</th>\n",
       "      <td>San Francisco Caltrain (Townsend at 4th)</td>\n",
       "      <td>Market at 10th</td>\n",
       "      <td>61</td>\n",
       "      <td>1240</td>\n",
       "      <td>4.69</td>\n",
       "    </tr>\n",
       "  </tbody>\n",
       "</table>\n",
       "</div>"
      ],
      "text/plain": [
       "                                 start_name  \\\n",
       "0                    Embarcadero at Sansome   \n",
       "1      Harry Bridges Plaza (Ferry Building)   \n",
       "2  San Francisco Caltrain (Townsend at 4th)   \n",
       "3      Harry Bridges Plaza (Ferry Building)   \n",
       "4  San Francisco Caltrain (Townsend at 4th)   \n",
       "\n",
       "                               end_name  customer_trips  subscriber_trips  \\\n",
       "0  Harry Bridges Plaza (Ferry Building)             176              1164   \n",
       "1                Embarcadero at Sansome             316              2625   \n",
       "2                Embarcadero at Sansome              89              1500   \n",
       "3                     2nd at South Park              52               948   \n",
       "4                        Market at 10th              61              1240   \n",
       "\n",
       "   percent_customer_trips  \n",
       "0                   13.13  \n",
       "1                   10.74  \n",
       "2                    5.60  \n",
       "3                    5.20  \n",
       "4                    4.69  "
      ]
     },
     "execution_count": 26,
     "metadata": {},
     "output_type": "execute_result"
    }
   ],
   "source": [
    "%%bigquery\n",
    "WITH subscriber_trips AS\n",
    "    (SELECT stations_1.name start_name, stations_2.name end_name, COUNT(*) subscriber_trips,  \n",
    "    FROM `round-ring-276215.bikeshare_views.commuter_trips` commuter_trips\n",
    "    JOIN `bigquery-public-data.san_francisco.bikeshare_stations` stations_1\n",
    "      ON commuter_trips.start_station_id = stations_1.station_id \n",
    "    JOIN `bigquery-public-data.san_francisco.bikeshare_stations` stations_2\n",
    "      ON commuter_trips.end_station_id = stations_2.station_id \n",
    "    WHERE subscriber_type = 'Subscriber'\n",
    "    GROUP BY start_name, end_name),\n",
    "customer_trips AS\n",
    "    (SELECT stations_1.name start_name, stations_2.name end_name, COUNT(*) customer_trips,  \n",
    "    FROM `round-ring-276215.bikeshare_views.commuter_trips` commuter_trips\n",
    "    JOIN `bigquery-public-data.san_francisco.bikeshare_stations` stations_1\n",
    "      ON commuter_trips.start_station_id = stations_1.station_id \n",
    "    JOIN `bigquery-public-data.san_francisco.bikeshare_stations` stations_2\n",
    "      ON commuter_trips.end_station_id = stations_2.station_id \n",
    "    WHERE subscriber_type = 'Customer'\n",
    "    GROUP BY start_name, end_name)\n",
    "SELECT s.start_name, s.end_name, c.customer_trips, s.subscriber_trips, \n",
    "       ROUND(c.customer_trips/(s.subscriber_trips + c.customer_trips) * 100, 2) percent_customer_trips\n",
    "FROM subscriber_trips s\n",
    "    JOIN customer_trips c\n",
    "    ON s.start_name = c.start_name\n",
    "    AND s.end_name = c.end_name\n",
    "WHERE c.customer_trips + s.subscriber_trips >= 1000\n",
    "ORDER BY percent_customer_trips DESC\n",
    "LIMIT 5"
   ]
  },
  {
   "cell_type": "markdown",
   "metadata": {},
   "source": [
    "We can see that the top entries in this chart that Embarcadero at Sansome to Harry Bridges Plaza (Ferry Building) has a high percentage of Customers compared to Subscribers (13.13%), as does the opposite route (likely afternoon vs morning trips). Therefore, focusing customers on this particular route would make the most sense."
   ]
  },
  {
   "cell_type": "markdown",
   "metadata": {},
   "source": [
    "### Discounts based on availability"
   ]
  },
  {
   "cell_type": "markdown",
   "metadata": {},
   "source": [
    "In part 2 of of the project, we looked at overall bike availability based on station. Here, in order to make recommendations more taylored to commuters, we will use similar queries to look at bike availability specifically during commuter hours. Namely, we ask the question:\n",
    "\n",
    "**During prime commuting hours, which bike stations have the most bikes available, and which have the least?**\n",
    "\n",
    "In order to answer this question, "
   ]
  },
  {
   "cell_type": "markdown",
   "metadata": {},
   "source": [
    "## Final Recommendation Based on Commuter Trips"
   ]
  },
  {
   "cell_type": "markdown",
   "metadata": {},
   "source": [
    "# Non-commuter criteria"
   ]
  },
  {
   "cell_type": "markdown",
   "metadata": {},
   "source": [
    "Least used bikes and maybe for the least used bike, the stations at which it is parked (to show there is movement; just encourage more movement with discount to offset maintainence costs)."
   ]
  },
  {
   "cell_type": "markdown",
   "metadata": {},
   "source": [
    "Since we saw in Part 1 that Customers tend to take more intercity trips than subscribers, a natural question to ask is do Customers also take longer trips than Subscribers, and if so, is there any way we can convert those Customers to Subscribers? Different model that charges extra for rentals that are too short! General customers versus subscribers: duration of trips is different; maybe offer better subscription services for longer durations so people can take day trips between cities. Customers tend to travel in between cities more (Part 1). People don't want to subscribe but rather just do single trips."
   ]
  },
  {
   "cell_type": "markdown",
   "metadata": {},
   "source": [
    "Best day of the week and hour to offer general discount to everyone during this 3 hour window -- try for free during these times for first time customers"
   ]
  },
  {
   "cell_type": "markdown",
   "metadata": {},
   "source": [
    "Change in ridership during weekend versus weekday. Top 5 starting stations during morning hours. Top 5 starting stations during the weekend morning hours. Likely different people since it's different distribution of starting stations. Maybe offer discount to subscribers who use service even on weekends, and not just to commute."
   ]
  },
  {
   "cell_type": "code",
   "execution_count": null,
   "metadata": {},
   "outputs": [],
   "source": []
  }
 ],
 "metadata": {
  "environment": {
   "name": "tf2-gpu.2-1.m46",
   "type": "gcloud",
   "uri": "gcr.io/deeplearning-platform-release/tf2-gpu.2-1:m46"
  },
  "kernelspec": {
   "display_name": "Python 3",
   "language": "python",
   "name": "python3"
  },
  "language_info": {
   "codemirror_mode": {
    "name": "ipython",
    "version": 3
   },
   "file_extension": ".py",
   "mimetype": "text/x-python",
   "name": "python",
   "nbconvert_exporter": "python",
   "pygments_lexer": "ipython3",
   "version": "3.7.6"
  }
 },
 "nbformat": 4,
 "nbformat_minor": 4
}
